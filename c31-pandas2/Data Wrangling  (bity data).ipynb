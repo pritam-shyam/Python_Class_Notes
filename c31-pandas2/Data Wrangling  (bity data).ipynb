{
 "cells": [
  {
   "cell_type": "markdown",
   "metadata": {
    "deletable": true,
    "editable": true
   },
   "source": [
    "# Data Wrangling\n",
    "\n",
    "We continue our discussion on Pandas and explore more examples of using Python and Pandas to collect and manipulate data.\n",
    "\n",
    "<sub>NOTE: Much of the material below is either derived from, or copied from, one of the courses recommended texts \"Python for Data Analysis: Data Wrangling with Pandas, NumPy, and IPython\" by Wes McKinney. Be aware though that any material taken from the text may have been updated, changed, and new material added</sub>\n"
   ]
  },
  {
   "cell_type": "markdown",
   "metadata": {
    "deletable": true,
    "editable": true
   },
   "source": [
    "## Bitlinks\n",
    "\n",
    "Bitly was once very popular way of sharing long URL's in twitter mentions, and other means of communication. It's still used extensively, but not to the level it once was. Nevertheless, it can still be a userful source of infofmation. "
   ]
  },
  {
   "cell_type": "code",
   "execution_count": 401,
   "metadata": {
    "collapsed": false,
    "deletable": true,
    "editable": true
   },
   "outputs": [
    {
     "data": {
      "text/html": [
       "<iframe src=https://dev.bitly.com/get_started.html width=980 height=400></iframe>"
      ],
      "text/plain": [
       "<IPython.core.display.HTML object>"
      ]
     },
     "execution_count": 401,
     "metadata": {},
     "output_type": "execute_result"
    }
   ],
   "source": [
    "from IPython.core.display import HTML\n",
    "from IPython.display import display\n",
    "HTML(\"<iframe src=https://dev.bitly.com/get_started.html width=980 height=400></iframe>\")"
   ]
  },
  {
   "cell_type": "markdown",
   "metadata": {
    "deletable": true,
    "editable": true
   },
   "source": [
    "### usa.gov data from bit.ly\n",
    "\n",
    "In 2011, URL shortening service bit.ly partnered with the United States government website usa.gov to provide a feed of anonymous data gathered from users who shorten links ending with .gov or .mil . \n",
    "\n",
    "This project was maintained at https://github.com/usagov/1.USA.gov-Data, but was shutdown on July 2016. \n"
   ]
  },
  {
   "cell_type": "code",
   "execution_count": 402,
   "metadata": {
    "collapsed": false,
    "deletable": true,
    "editable": true
   },
   "outputs": [
    {
     "data": {
      "text/plain": [
       "['{ \"a\": \"Mozilla\\\\/5.0 (Windows NT 6.1; WOW64) AppleWebKit\\\\/535.11 (KHTML, like Gecko) Chrome\\\\/17.0.963.78 Safari\\\\/535.11\", \"c\": \"US\", \"nk\": 1, \"tz\": \"America\\\\/New_York\", \"gr\": \"MA\", \"g\": \"A6qOVH\", \"h\": \"wfLQtf\", \"l\": \"orofrog\", \"al\": \"en-US,en;q=0.8\", \"hh\": \"1.usa.gov\", \"r\": \"http:\\\\/\\\\/www.facebook.com\\\\/l\\\\/7AQEFzjSi\\\\/1.usa.gov\\\\/wfLQtf\", \"u\": \"http:\\\\/\\\\/www.ncbi.nlm.nih.gov\\\\/pubmed\\\\/22415991\", \"t\": 1331923247, \"hc\": 1331822918, \"cy\": \"Danvers\", \"ll\": [ 42.576698, -70.954903 ] }\\n',\n",
       " '{ \"a\": \"GoogleMaps\\\\/RochesterNY\", \"c\": \"US\", \"nk\": 0, \"tz\": \"America\\\\/Denver\", \"gr\": \"UT\", \"g\": \"mwszkS\", \"h\": \"mwszkS\", \"l\": \"bitly\", \"hh\": \"j.mp\", \"r\": \"http:\\\\/\\\\/www.AwareMap.com\\\\/\", \"u\": \"http:\\\\/\\\\/www.monroecounty.gov\\\\/etc\\\\/911\\\\/rss.php\", \"t\": 1331923249, \"hc\": 1308262393, \"cy\": \"Provo\", \"ll\": [ 40.218102, -111.613297 ] }\\n']"
      ]
     },
     "execution_count": 402,
     "metadata": {},
     "output_type": "execute_result"
    }
   ],
   "source": [
    "open(\"usagov_bitly.txt\").readlines()[0:2]"
   ]
  },
  {
   "cell_type": "markdown",
   "metadata": {
    "collapsed": false,
    "deletable": true,
    "editable": true
   },
   "source": [
    "From this dump of the first 2 lines, we can see that this looks like it's in json format. \n",
    "\n",
    "As we have already seen, Python offers a number of modules that allow us to easily manage json data. We will use the json library. "
   ]
  },
  {
   "cell_type": "code",
   "execution_count": 403,
   "metadata": {
    "collapsed": false,
    "deletable": true,
    "editable": true,
    "scrolled": true
   },
   "outputs": [
    {
     "data": {
      "text/plain": [
       "[{'a': 'GoogleMaps/RochesterNY',\n",
       "  'c': 'US',\n",
       "  'cy': 'Provo',\n",
       "  'g': 'mwszkS',\n",
       "  'gr': 'UT',\n",
       "  'h': 'mwszkS',\n",
       "  'hc': 1308262393,\n",
       "  'hh': 'j.mp',\n",
       "  'l': 'bitly',\n",
       "  'll': [40.218102, -111.613297],\n",
       "  'nk': 0,\n",
       "  'r': 'http://www.AwareMap.com/',\n",
       "  't': 1331923249,\n",
       "  'tz': 'America/Denver',\n",
       "  'u': 'http://www.monroecounty.gov/etc/911/rss.php'},\n",
       " {'a': 'Mozilla/4.0 (compatible; MSIE 8.0; Windows NT 6.1; WOW64; Trident/4.0; SLCC2; .NET CLR 2.0.50727; .NET CLR 3.5.30729; .NET CLR 3.0.30729; Media Center PC 6.0; .NET4.0C; .NET4.0E; InfoPath.3)',\n",
       "  'al': 'en-US',\n",
       "  'c': 'US',\n",
       "  'cy': 'Washington',\n",
       "  'g': 'xxr3Qb',\n",
       "  'gr': 'DC',\n",
       "  'h': 'xxr3Qb',\n",
       "  'hc': 1331919941,\n",
       "  'hh': '1.usa.gov',\n",
       "  'l': 'bitly',\n",
       "  'll': [38.9007, -77.043098],\n",
       "  'nk': 1,\n",
       "  'r': 'http://t.co/03elZC4Q',\n",
       "  't': 1331923250,\n",
       "  'tz': 'America/New_York',\n",
       "  'u': 'http://boxer.senate.gov/en/press/releases/031612.cfm'}]"
      ]
     },
     "execution_count": 403,
     "metadata": {},
     "output_type": "execute_result"
    }
   ],
   "source": [
    "import json\n",
    "records = [json.loads(line) for line in open(\"usagov_bitly.txt\")]\n",
    "records[1:3]"
   ]
  },
  {
   "cell_type": "code",
   "execution_count": 404,
   "metadata": {
    "collapsed": false,
    "deletable": true,
    "editable": true
   },
   "outputs": [
    {
     "data": {
      "text/plain": [
       "'America/New_York'"
      ]
     },
     "execution_count": 404,
     "metadata": {},
     "output_type": "execute_result"
    }
   ],
   "source": [
    "records[0]['tz']"
   ]
  },
  {
   "cell_type": "markdown",
   "metadata": {
    "deletable": true,
    "editable": true
   },
   "source": [
    "Now, if we iterature through this data to find tz records, we may be inclinded to try the following:"
   ]
  },
  {
   "cell_type": "code",
   "execution_count": 405,
   "metadata": {
    "collapsed": false,
    "deletable": true,
    "editable": true
   },
   "outputs": [],
   "source": [
    "# time_zones = [rec['tz'] for rec in records]"
   ]
  },
  {
   "cell_type": "markdown",
   "metadata": {
    "deletable": true,
    "editable": true
   },
   "source": [
    "... but, this would produce and error as not all records seem to have the tz key. We can see this if we iterature through and print the results to the screen"
   ]
  },
  {
   "cell_type": "markdown",
   "metadata": {
    "collapsed": false,
    "deletable": true,
    "editable": true,
    "scrolled": false
   },
   "source": [
    "for rec in records:\n",
    "    print(rec['tz'])"
   ]
  },
  {
   "cell_type": "markdown",
   "metadata": {
    "deletable": true,
    "editable": true
   },
   "source": [
    "Obviously, we need to manage how to handle records where there is not tz key. Let's remove the instances...."
   ]
  },
  {
   "cell_type": "code",
   "execution_count": 406,
   "metadata": {
    "collapsed": false,
    "deletable": true,
    "editable": true,
    "scrolled": false
   },
   "outputs": [
    {
     "data": {
      "text/plain": [
       "['America/New_York',\n",
       " 'America/Denver',\n",
       " 'America/New_York',\n",
       " 'America/Sao_Paulo',\n",
       " 'America/New_York',\n",
       " 'America/New_York',\n",
       " 'Europe/Warsaw',\n",
       " '',\n",
       " '',\n",
       " '']"
      ]
     },
     "execution_count": 406,
     "metadata": {},
     "output_type": "execute_result"
    }
   ],
   "source": [
    "time_zones = [rec['tz'] for rec in records if 'tz' in rec]\n",
    "time_zones[:10]"
   ]
  },
  {
   "cell_type": "markdown",
   "metadata": {
    "deletable": true,
    "editable": true
   },
   "source": [
    "Now, let's say we want to analyze where the traffic to .gov sites is coming from.\n",
    "\n",
    "Let's use timezone as a proxy indicator for location and count the occurances of a given timezone."
   ]
  },
  {
   "cell_type": "code",
   "execution_count": 407,
   "metadata": {
    "collapsed": true,
    "deletable": true,
    "editable": true
   },
   "outputs": [],
   "source": [
    "def get_counts(sequence):\n",
    "    counts = {}\n",
    "    for x in sequence:\n",
    "        if x in counts:\n",
    "            counts[x] += 1\n",
    "        else:\n",
    "            counts[x] = 1\n",
    "    return counts"
   ]
  },
  {
   "cell_type": "code",
   "execution_count": 408,
   "metadata": {
    "collapsed": false,
    "deletable": true,
    "editable": true
   },
   "outputs": [],
   "source": [
    "tz_counts = get_counts(time_zones)"
   ]
  },
  {
   "cell_type": "code",
   "execution_count": 409,
   "metadata": {
    "collapsed": false,
    "deletable": true,
    "editable": true
   },
   "outputs": [
    {
     "data": {
      "text/plain": [
       "1251"
      ]
     },
     "execution_count": 409,
     "metadata": {},
     "output_type": "execute_result"
    }
   ],
   "source": [
    "tz_counts['America/New_York']"
   ]
  },
  {
   "cell_type": "markdown",
   "metadata": {
    "deletable": true,
    "editable": true
   },
   "source": [
    "Let's write a functiont to display the first n number of the tope timezones found in the data...\n"
   ]
  },
  {
   "cell_type": "code",
   "execution_count": 410,
   "metadata": {
    "collapsed": true,
    "deletable": true,
    "editable": true
   },
   "outputs": [],
   "source": [
    "def top_counts(count_dict, n=10):\n",
    "    value_key_pairs = [(count, tz) for tz, count in count_dict.items()]\n",
    "    value_key_pairs.sort(reverse=True)\n",
    "    return value_key_pairs[:n]"
   ]
  },
  {
   "cell_type": "code",
   "execution_count": 411,
   "metadata": {
    "collapsed": false,
    "deletable": true,
    "editable": true
   },
   "outputs": [
    {
     "data": {
      "text/plain": [
       "[(1251, 'America/New_York'),\n",
       " (521, ''),\n",
       " (400, 'America/Chicago'),\n",
       " (382, 'America/Los_Angeles'),\n",
       " (191, 'America/Denver'),\n",
       " (74, 'Europe/London'),\n",
       " (37, 'Asia/Tokyo'),\n",
       " (36, 'Pacific/Honolulu'),\n",
       " (35, 'Europe/Madrid'),\n",
       " (33, 'America/Sao_Paulo')]"
      ]
     },
     "execution_count": 411,
     "metadata": {},
     "output_type": "execute_result"
    }
   ],
   "source": [
    "top_counts(tz_counts)"
   ]
  },
  {
   "cell_type": "markdown",
   "metadata": {
    "deletable": true,
    "editable": true
   },
   "source": [
    "## Counting with Pandas\n",
    "\n",
    "As we have already seen, the main data structures in Pandas are Series, DataFrame and Panel. Let's take our records data structure (a list of dictionaries) and load this into a Pandas DataFrame..."
   ]
  },
  {
   "cell_type": "markdown",
   "metadata": {
    "deletable": true,
    "editable": true
   },
   "source": [
    "as a reminder... let's look at the content of the first 10 records"
   ]
  },
  {
   "cell_type": "code",
   "execution_count": 412,
   "metadata": {
    "collapsed": false,
    "deletable": true,
    "editable": true
   },
   "outputs": [
    {
     "data": {
      "text/plain": [
       "[{'a': 'Mozilla/5.0 (Windows NT 6.1; WOW64) AppleWebKit/535.11 (KHTML, like Gecko) Chrome/17.0.963.78 Safari/535.11',\n",
       "  'al': 'en-US,en;q=0.8',\n",
       "  'c': 'US',\n",
       "  'cy': 'Danvers',\n",
       "  'g': 'A6qOVH',\n",
       "  'gr': 'MA',\n",
       "  'h': 'wfLQtf',\n",
       "  'hc': 1331822918,\n",
       "  'hh': '1.usa.gov',\n",
       "  'l': 'orofrog',\n",
       "  'll': [42.576698, -70.954903],\n",
       "  'nk': 1,\n",
       "  'r': 'http://www.facebook.com/l/7AQEFzjSi/1.usa.gov/wfLQtf',\n",
       "  't': 1331923247,\n",
       "  'tz': 'America/New_York',\n",
       "  'u': 'http://www.ncbi.nlm.nih.gov/pubmed/22415991'},\n",
       " {'a': 'GoogleMaps/RochesterNY',\n",
       "  'c': 'US',\n",
       "  'cy': 'Provo',\n",
       "  'g': 'mwszkS',\n",
       "  'gr': 'UT',\n",
       "  'h': 'mwszkS',\n",
       "  'hc': 1308262393,\n",
       "  'hh': 'j.mp',\n",
       "  'l': 'bitly',\n",
       "  'll': [40.218102, -111.613297],\n",
       "  'nk': 0,\n",
       "  'r': 'http://www.AwareMap.com/',\n",
       "  't': 1331923249,\n",
       "  'tz': 'America/Denver',\n",
       "  'u': 'http://www.monroecounty.gov/etc/911/rss.php'},\n",
       " {'a': 'Mozilla/4.0 (compatible; MSIE 8.0; Windows NT 6.1; WOW64; Trident/4.0; SLCC2; .NET CLR 2.0.50727; .NET CLR 3.5.30729; .NET CLR 3.0.30729; Media Center PC 6.0; .NET4.0C; .NET4.0E; InfoPath.3)',\n",
       "  'al': 'en-US',\n",
       "  'c': 'US',\n",
       "  'cy': 'Washington',\n",
       "  'g': 'xxr3Qb',\n",
       "  'gr': 'DC',\n",
       "  'h': 'xxr3Qb',\n",
       "  'hc': 1331919941,\n",
       "  'hh': '1.usa.gov',\n",
       "  'l': 'bitly',\n",
       "  'll': [38.9007, -77.043098],\n",
       "  'nk': 1,\n",
       "  'r': 'http://t.co/03elZC4Q',\n",
       "  't': 1331923250,\n",
       "  'tz': 'America/New_York',\n",
       "  'u': 'http://boxer.senate.gov/en/press/releases/031612.cfm'},\n",
       " {'a': 'Mozilla/5.0 (Macintosh; Intel Mac OS X 10_6_8) AppleWebKit/534.52.7 (KHTML, like Gecko) Version/5.1.2 Safari/534.52.7',\n",
       "  'al': 'pt-br',\n",
       "  'c': 'BR',\n",
       "  'cy': 'Braz',\n",
       "  'g': 'zCaLwp',\n",
       "  'gr': '27',\n",
       "  'h': 'zUtuOu',\n",
       "  'hc': 1331923068,\n",
       "  'hh': '1.usa.gov',\n",
       "  'l': 'alelex88',\n",
       "  'll': [-23.549999, -46.616699],\n",
       "  'nk': 0,\n",
       "  'r': 'direct',\n",
       "  't': 1331923249,\n",
       "  'tz': 'America/Sao_Paulo',\n",
       "  'u': 'http://apod.nasa.gov/apod/ap120312.html'},\n",
       " {'a': 'Mozilla/5.0 (Windows NT 6.1; WOW64) AppleWebKit/535.11 (KHTML, like Gecko) Chrome/17.0.963.79 Safari/535.11',\n",
       "  'al': 'en-US,en;q=0.8',\n",
       "  'c': 'US',\n",
       "  'cy': 'Shrewsbury',\n",
       "  'g': '9b6kNl',\n",
       "  'gr': 'MA',\n",
       "  'h': '9b6kNl',\n",
       "  'hc': 1273672411,\n",
       "  'hh': 'bit.ly',\n",
       "  'l': 'bitly',\n",
       "  'll': [42.286499, -71.714699],\n",
       "  'nk': 0,\n",
       "  'r': 'http://www.shrewsbury-ma.gov/selco/',\n",
       "  't': 1331923251,\n",
       "  'tz': 'America/New_York',\n",
       "  'u': 'http://www.shrewsbury-ma.gov/egov/gallery/134127368672998.png'},\n",
       " {'a': 'Mozilla/5.0 (Windows NT 6.1; WOW64) AppleWebKit/535.11 (KHTML, like Gecko) Chrome/17.0.963.79 Safari/535.11',\n",
       "  'al': 'en-US,en;q=0.8',\n",
       "  'c': 'US',\n",
       "  'cy': 'Shrewsbury',\n",
       "  'g': 'axNK8c',\n",
       "  'gr': 'MA',\n",
       "  'h': 'axNK8c',\n",
       "  'hc': 1273672506,\n",
       "  'hh': 'bit.ly',\n",
       "  'l': 'bitly',\n",
       "  'll': [42.286499, -71.714699],\n",
       "  'nk': 0,\n",
       "  'r': 'http://www.shrewsbury-ma.gov/selco/',\n",
       "  't': 1331923252,\n",
       "  'tz': 'America/New_York',\n",
       "  'u': 'http://www.shrewsbury-ma.gov/egov/gallery/134127368675393.png'},\n",
       " {'a': 'Mozilla/5.0 (Windows NT 5.1) AppleWebKit/535.11 (KHTML, like Gecko) Chrome/17.0.963.79 Safari/535.11',\n",
       "  'al': 'pl-PL,pl;q=0.8,en-US;q=0.6,en;q=0.4',\n",
       "  'c': 'PL',\n",
       "  'cy': 'Luban',\n",
       "  'g': 'wcndER',\n",
       "  'gr': '77',\n",
       "  'h': 'zkpJBR',\n",
       "  'hc': 1331922854,\n",
       "  'hh': '1.usa.gov',\n",
       "  'l': 'bnjacobs',\n",
       "  'll': [51.116699, 15.2833],\n",
       "  'nk': 0,\n",
       "  'r': 'http://plus.url.google.com/url?sa=z&n=1331923253510&url=http%3A%2F%2F1.usa.gov%2FzkpJBR&usg=TF5iGSqK1_GSADtHqTqjuUZyMIY.',\n",
       "  't': 1331923255,\n",
       "  'tz': 'Europe/Warsaw',\n",
       "  'u': 'http://www.nasa.gov/mission_pages/nustar/main/index.html'},\n",
       " {'a': 'Mozilla/5.0 (Windows NT 6.1; rv:2.0.1) Gecko/20100101 Firefox/4.0.1',\n",
       "  'al': 'bg,en-us;q=0.7,en;q=0.3',\n",
       "  'c': None,\n",
       "  'g': 'wcndER',\n",
       "  'h': 'zkpJBR',\n",
       "  'hc': 1331922854,\n",
       "  'hh': '1.usa.gov',\n",
       "  'l': 'bnjacobs',\n",
       "  'nk': 0,\n",
       "  'r': 'http://www.facebook.com/',\n",
       "  't': 1331923255,\n",
       "  'tz': '',\n",
       "  'u': 'http://www.nasa.gov/mission_pages/nustar/main/index.html'},\n",
       " {'a': 'Opera/9.80 (X11; Linux zbov; U; en) Presto/2.10.254 Version/12.00',\n",
       "  'al': 'en-US, en',\n",
       "  'c': None,\n",
       "  'g': 'wcndER',\n",
       "  'h': 'zkpJBR',\n",
       "  'hc': 1331922854,\n",
       "  'hh': '1.usa.gov',\n",
       "  'l': 'bnjacobs',\n",
       "  'nk': 0,\n",
       "  'r': 'http://www.facebook.com/l.php?u=http%3A%2F%2F1.usa.gov%2FzkpJBR&h=fAQG5ntSGAQHqKPlWzuJKUA9LYeckHZCUxvjQipJDd7Rmmw',\n",
       "  't': 1331923254,\n",
       "  'tz': '',\n",
       "  'u': 'http://www.nasa.gov/mission_pages/nustar/main/index.html'},\n",
       " {'a': 'Mozilla/5.0 (Windows NT 6.1; WOW64) AppleWebKit/535.11 (KHTML, like Gecko) Chrome/17.0.963.79 Safari/535.11',\n",
       "  'al': 'pt-BR,pt;q=0.8,en-US;q=0.6,en;q=0.4',\n",
       "  'c': None,\n",
       "  'g': 'zCaLwp',\n",
       "  'h': 'zUtuOu',\n",
       "  'hc': 1331923068,\n",
       "  'hh': '1.usa.gov',\n",
       "  'l': 'alelex88',\n",
       "  'nk': 0,\n",
       "  'r': 'http://t.co/o1Pd0WeV',\n",
       "  't': 1331923255,\n",
       "  'tz': '',\n",
       "  'u': 'http://apod.nasa.gov/apod/ap120312.html'}]"
      ]
     },
     "execution_count": 412,
     "metadata": {},
     "output_type": "execute_result"
    }
   ],
   "source": [
    "records[:10]"
   ]
  },
  {
   "cell_type": "markdown",
   "metadata": {
    "deletable": true,
    "editable": true
   },
   "source": [
    "Now, let's load this data structure (which as we seen from the above output, is a list of dictionaries) and display the first 10 records of the DataFrame."
   ]
  },
  {
   "cell_type": "code",
   "execution_count": 413,
   "metadata": {
    "collapsed": false,
    "deletable": true,
    "editable": true
   },
   "outputs": [
    {
     "data": {
      "text/html": [
       "<div>\n",
       "<table border=\"1\" class=\"dataframe\">\n",
       "  <thead>\n",
       "    <tr style=\"text-align: right;\">\n",
       "      <th></th>\n",
       "      <th>_heartbeat_</th>\n",
       "      <th>a</th>\n",
       "      <th>al</th>\n",
       "      <th>c</th>\n",
       "      <th>cy</th>\n",
       "      <th>g</th>\n",
       "      <th>gr</th>\n",
       "      <th>h</th>\n",
       "      <th>hc</th>\n",
       "      <th>hh</th>\n",
       "      <th>kw</th>\n",
       "      <th>l</th>\n",
       "      <th>ll</th>\n",
       "      <th>nk</th>\n",
       "      <th>r</th>\n",
       "      <th>t</th>\n",
       "      <th>tz</th>\n",
       "      <th>u</th>\n",
       "    </tr>\n",
       "  </thead>\n",
       "  <tbody>\n",
       "    <tr>\n",
       "      <th>0</th>\n",
       "      <td>NaN</td>\n",
       "      <td>Mozilla/5.0 (Windows NT 6.1; WOW64) AppleWebKi...</td>\n",
       "      <td>en-US,en;q=0.8</td>\n",
       "      <td>US</td>\n",
       "      <td>Danvers</td>\n",
       "      <td>A6qOVH</td>\n",
       "      <td>MA</td>\n",
       "      <td>wfLQtf</td>\n",
       "      <td>1.331823e+09</td>\n",
       "      <td>1.usa.gov</td>\n",
       "      <td>NaN</td>\n",
       "      <td>orofrog</td>\n",
       "      <td>[42.576698, -70.954903]</td>\n",
       "      <td>1.0</td>\n",
       "      <td>http://www.facebook.com/l/7AQEFzjSi/1.usa.gov/...</td>\n",
       "      <td>1.331923e+09</td>\n",
       "      <td>America/New_York</td>\n",
       "      <td>http://www.ncbi.nlm.nih.gov/pubmed/22415991</td>\n",
       "    </tr>\n",
       "    <tr>\n",
       "      <th>1</th>\n",
       "      <td>NaN</td>\n",
       "      <td>GoogleMaps/RochesterNY</td>\n",
       "      <td>NaN</td>\n",
       "      <td>US</td>\n",
       "      <td>Provo</td>\n",
       "      <td>mwszkS</td>\n",
       "      <td>UT</td>\n",
       "      <td>mwszkS</td>\n",
       "      <td>1.308262e+09</td>\n",
       "      <td>j.mp</td>\n",
       "      <td>NaN</td>\n",
       "      <td>bitly</td>\n",
       "      <td>[40.218102, -111.613297]</td>\n",
       "      <td>0.0</td>\n",
       "      <td>http://www.AwareMap.com/</td>\n",
       "      <td>1.331923e+09</td>\n",
       "      <td>America/Denver</td>\n",
       "      <td>http://www.monroecounty.gov/etc/911/rss.php</td>\n",
       "    </tr>\n",
       "    <tr>\n",
       "      <th>2</th>\n",
       "      <td>NaN</td>\n",
       "      <td>Mozilla/4.0 (compatible; MSIE 8.0; Windows NT ...</td>\n",
       "      <td>en-US</td>\n",
       "      <td>US</td>\n",
       "      <td>Washington</td>\n",
       "      <td>xxr3Qb</td>\n",
       "      <td>DC</td>\n",
       "      <td>xxr3Qb</td>\n",
       "      <td>1.331920e+09</td>\n",
       "      <td>1.usa.gov</td>\n",
       "      <td>NaN</td>\n",
       "      <td>bitly</td>\n",
       "      <td>[38.9007, -77.043098]</td>\n",
       "      <td>1.0</td>\n",
       "      <td>http://t.co/03elZC4Q</td>\n",
       "      <td>1.331923e+09</td>\n",
       "      <td>America/New_York</td>\n",
       "      <td>http://boxer.senate.gov/en/press/releases/0316...</td>\n",
       "    </tr>\n",
       "    <tr>\n",
       "      <th>3</th>\n",
       "      <td>NaN</td>\n",
       "      <td>Mozilla/5.0 (Macintosh; Intel Mac OS X 10_6_8)...</td>\n",
       "      <td>pt-br</td>\n",
       "      <td>BR</td>\n",
       "      <td>Braz</td>\n",
       "      <td>zCaLwp</td>\n",
       "      <td>27</td>\n",
       "      <td>zUtuOu</td>\n",
       "      <td>1.331923e+09</td>\n",
       "      <td>1.usa.gov</td>\n",
       "      <td>NaN</td>\n",
       "      <td>alelex88</td>\n",
       "      <td>[-23.549999, -46.616699]</td>\n",
       "      <td>0.0</td>\n",
       "      <td>direct</td>\n",
       "      <td>1.331923e+09</td>\n",
       "      <td>America/Sao_Paulo</td>\n",
       "      <td>http://apod.nasa.gov/apod/ap120312.html</td>\n",
       "    </tr>\n",
       "    <tr>\n",
       "      <th>4</th>\n",
       "      <td>NaN</td>\n",
       "      <td>Mozilla/5.0 (Windows NT 6.1; WOW64) AppleWebKi...</td>\n",
       "      <td>en-US,en;q=0.8</td>\n",
       "      <td>US</td>\n",
       "      <td>Shrewsbury</td>\n",
       "      <td>9b6kNl</td>\n",
       "      <td>MA</td>\n",
       "      <td>9b6kNl</td>\n",
       "      <td>1.273672e+09</td>\n",
       "      <td>bit.ly</td>\n",
       "      <td>NaN</td>\n",
       "      <td>bitly</td>\n",
       "      <td>[42.286499, -71.714699]</td>\n",
       "      <td>0.0</td>\n",
       "      <td>http://www.shrewsbury-ma.gov/selco/</td>\n",
       "      <td>1.331923e+09</td>\n",
       "      <td>America/New_York</td>\n",
       "      <td>http://www.shrewsbury-ma.gov/egov/gallery/1341...</td>\n",
       "    </tr>\n",
       "    <tr>\n",
       "      <th>5</th>\n",
       "      <td>NaN</td>\n",
       "      <td>Mozilla/5.0 (Windows NT 6.1; WOW64) AppleWebKi...</td>\n",
       "      <td>en-US,en;q=0.8</td>\n",
       "      <td>US</td>\n",
       "      <td>Shrewsbury</td>\n",
       "      <td>axNK8c</td>\n",
       "      <td>MA</td>\n",
       "      <td>axNK8c</td>\n",
       "      <td>1.273673e+09</td>\n",
       "      <td>bit.ly</td>\n",
       "      <td>NaN</td>\n",
       "      <td>bitly</td>\n",
       "      <td>[42.286499, -71.714699]</td>\n",
       "      <td>0.0</td>\n",
       "      <td>http://www.shrewsbury-ma.gov/selco/</td>\n",
       "      <td>1.331923e+09</td>\n",
       "      <td>America/New_York</td>\n",
       "      <td>http://www.shrewsbury-ma.gov/egov/gallery/1341...</td>\n",
       "    </tr>\n",
       "    <tr>\n",
       "      <th>6</th>\n",
       "      <td>NaN</td>\n",
       "      <td>Mozilla/5.0 (Windows NT 5.1) AppleWebKit/535.1...</td>\n",
       "      <td>pl-PL,pl;q=0.8,en-US;q=0.6,en;q=0.4</td>\n",
       "      <td>PL</td>\n",
       "      <td>Luban</td>\n",
       "      <td>wcndER</td>\n",
       "      <td>77</td>\n",
       "      <td>zkpJBR</td>\n",
       "      <td>1.331923e+09</td>\n",
       "      <td>1.usa.gov</td>\n",
       "      <td>NaN</td>\n",
       "      <td>bnjacobs</td>\n",
       "      <td>[51.116699, 15.2833]</td>\n",
       "      <td>0.0</td>\n",
       "      <td>http://plus.url.google.com/url?sa=z&amp;n=13319232...</td>\n",
       "      <td>1.331923e+09</td>\n",
       "      <td>Europe/Warsaw</td>\n",
       "      <td>http://www.nasa.gov/mission_pages/nustar/main/...</td>\n",
       "    </tr>\n",
       "    <tr>\n",
       "      <th>7</th>\n",
       "      <td>NaN</td>\n",
       "      <td>Mozilla/5.0 (Windows NT 6.1; rv:2.0.1) Gecko/2...</td>\n",
       "      <td>bg,en-us;q=0.7,en;q=0.3</td>\n",
       "      <td>None</td>\n",
       "      <td>NaN</td>\n",
       "      <td>wcndER</td>\n",
       "      <td>NaN</td>\n",
       "      <td>zkpJBR</td>\n",
       "      <td>1.331923e+09</td>\n",
       "      <td>1.usa.gov</td>\n",
       "      <td>NaN</td>\n",
       "      <td>bnjacobs</td>\n",
       "      <td>NaN</td>\n",
       "      <td>0.0</td>\n",
       "      <td>http://www.facebook.com/</td>\n",
       "      <td>1.331923e+09</td>\n",
       "      <td></td>\n",
       "      <td>http://www.nasa.gov/mission_pages/nustar/main/...</td>\n",
       "    </tr>\n",
       "    <tr>\n",
       "      <th>8</th>\n",
       "      <td>NaN</td>\n",
       "      <td>Opera/9.80 (X11; Linux zbov; U; en) Presto/2.1...</td>\n",
       "      <td>en-US, en</td>\n",
       "      <td>None</td>\n",
       "      <td>NaN</td>\n",
       "      <td>wcndER</td>\n",
       "      <td>NaN</td>\n",
       "      <td>zkpJBR</td>\n",
       "      <td>1.331923e+09</td>\n",
       "      <td>1.usa.gov</td>\n",
       "      <td>NaN</td>\n",
       "      <td>bnjacobs</td>\n",
       "      <td>NaN</td>\n",
       "      <td>0.0</td>\n",
       "      <td>http://www.facebook.com/l.php?u=http%3A%2F%2F1...</td>\n",
       "      <td>1.331923e+09</td>\n",
       "      <td></td>\n",
       "      <td>http://www.nasa.gov/mission_pages/nustar/main/...</td>\n",
       "    </tr>\n",
       "    <tr>\n",
       "      <th>9</th>\n",
       "      <td>NaN</td>\n",
       "      <td>Mozilla/5.0 (Windows NT 6.1; WOW64) AppleWebKi...</td>\n",
       "      <td>pt-BR,pt;q=0.8,en-US;q=0.6,en;q=0.4</td>\n",
       "      <td>None</td>\n",
       "      <td>NaN</td>\n",
       "      <td>zCaLwp</td>\n",
       "      <td>NaN</td>\n",
       "      <td>zUtuOu</td>\n",
       "      <td>1.331923e+09</td>\n",
       "      <td>1.usa.gov</td>\n",
       "      <td>NaN</td>\n",
       "      <td>alelex88</td>\n",
       "      <td>NaN</td>\n",
       "      <td>0.0</td>\n",
       "      <td>http://t.co/o1Pd0WeV</td>\n",
       "      <td>1.331923e+09</td>\n",
       "      <td></td>\n",
       "      <td>http://apod.nasa.gov/apod/ap120312.html</td>\n",
       "    </tr>\n",
       "  </tbody>\n",
       "</table>\n",
       "</div>"
      ],
      "text/plain": [
       "   _heartbeat_                                                  a  \\\n",
       "0          NaN  Mozilla/5.0 (Windows NT 6.1; WOW64) AppleWebKi...   \n",
       "1          NaN                             GoogleMaps/RochesterNY   \n",
       "2          NaN  Mozilla/4.0 (compatible; MSIE 8.0; Windows NT ...   \n",
       "3          NaN  Mozilla/5.0 (Macintosh; Intel Mac OS X 10_6_8)...   \n",
       "4          NaN  Mozilla/5.0 (Windows NT 6.1; WOW64) AppleWebKi...   \n",
       "5          NaN  Mozilla/5.0 (Windows NT 6.1; WOW64) AppleWebKi...   \n",
       "6          NaN  Mozilla/5.0 (Windows NT 5.1) AppleWebKit/535.1...   \n",
       "7          NaN  Mozilla/5.0 (Windows NT 6.1; rv:2.0.1) Gecko/2...   \n",
       "8          NaN  Opera/9.80 (X11; Linux zbov; U; en) Presto/2.1...   \n",
       "9          NaN  Mozilla/5.0 (Windows NT 6.1; WOW64) AppleWebKi...   \n",
       "\n",
       "                                    al     c          cy       g   gr       h  \\\n",
       "0                       en-US,en;q=0.8    US     Danvers  A6qOVH   MA  wfLQtf   \n",
       "1                                  NaN    US       Provo  mwszkS   UT  mwszkS   \n",
       "2                                en-US    US  Washington  xxr3Qb   DC  xxr3Qb   \n",
       "3                                pt-br    BR        Braz  zCaLwp   27  zUtuOu   \n",
       "4                       en-US,en;q=0.8    US  Shrewsbury  9b6kNl   MA  9b6kNl   \n",
       "5                       en-US,en;q=0.8    US  Shrewsbury  axNK8c   MA  axNK8c   \n",
       "6  pl-PL,pl;q=0.8,en-US;q=0.6,en;q=0.4    PL       Luban  wcndER   77  zkpJBR   \n",
       "7              bg,en-us;q=0.7,en;q=0.3  None         NaN  wcndER  NaN  zkpJBR   \n",
       "8                            en-US, en  None         NaN  wcndER  NaN  zkpJBR   \n",
       "9  pt-BR,pt;q=0.8,en-US;q=0.6,en;q=0.4  None         NaN  zCaLwp  NaN  zUtuOu   \n",
       "\n",
       "             hc         hh   kw         l                        ll   nk  \\\n",
       "0  1.331823e+09  1.usa.gov  NaN   orofrog   [42.576698, -70.954903]  1.0   \n",
       "1  1.308262e+09       j.mp  NaN     bitly  [40.218102, -111.613297]  0.0   \n",
       "2  1.331920e+09  1.usa.gov  NaN     bitly     [38.9007, -77.043098]  1.0   \n",
       "3  1.331923e+09  1.usa.gov  NaN  alelex88  [-23.549999, -46.616699]  0.0   \n",
       "4  1.273672e+09     bit.ly  NaN     bitly   [42.286499, -71.714699]  0.0   \n",
       "5  1.273673e+09     bit.ly  NaN     bitly   [42.286499, -71.714699]  0.0   \n",
       "6  1.331923e+09  1.usa.gov  NaN  bnjacobs      [51.116699, 15.2833]  0.0   \n",
       "7  1.331923e+09  1.usa.gov  NaN  bnjacobs                       NaN  0.0   \n",
       "8  1.331923e+09  1.usa.gov  NaN  bnjacobs                       NaN  0.0   \n",
       "9  1.331923e+09  1.usa.gov  NaN  alelex88                       NaN  0.0   \n",
       "\n",
       "                                                   r             t  \\\n",
       "0  http://www.facebook.com/l/7AQEFzjSi/1.usa.gov/...  1.331923e+09   \n",
       "1                           http://www.AwareMap.com/  1.331923e+09   \n",
       "2                               http://t.co/03elZC4Q  1.331923e+09   \n",
       "3                                             direct  1.331923e+09   \n",
       "4                http://www.shrewsbury-ma.gov/selco/  1.331923e+09   \n",
       "5                http://www.shrewsbury-ma.gov/selco/  1.331923e+09   \n",
       "6  http://plus.url.google.com/url?sa=z&n=13319232...  1.331923e+09   \n",
       "7                           http://www.facebook.com/  1.331923e+09   \n",
       "8  http://www.facebook.com/l.php?u=http%3A%2F%2F1...  1.331923e+09   \n",
       "9                               http://t.co/o1Pd0WeV  1.331923e+09   \n",
       "\n",
       "                  tz                                                  u  \n",
       "0   America/New_York        http://www.ncbi.nlm.nih.gov/pubmed/22415991  \n",
       "1     America/Denver        http://www.monroecounty.gov/etc/911/rss.php  \n",
       "2   America/New_York  http://boxer.senate.gov/en/press/releases/0316...  \n",
       "3  America/Sao_Paulo            http://apod.nasa.gov/apod/ap120312.html  \n",
       "4   America/New_York  http://www.shrewsbury-ma.gov/egov/gallery/1341...  \n",
       "5   America/New_York  http://www.shrewsbury-ma.gov/egov/gallery/1341...  \n",
       "6      Europe/Warsaw  http://www.nasa.gov/mission_pages/nustar/main/...  \n",
       "7                     http://www.nasa.gov/mission_pages/nustar/main/...  \n",
       "8                     http://www.nasa.gov/mission_pages/nustar/main/...  \n",
       "9                               http://apod.nasa.gov/apod/ap120312.html  "
      ]
     },
     "metadata": {},
     "output_type": "display_data"
    }
   ],
   "source": [
    "from pandas import DataFrame, Series\n",
    "import pandas as pd\n",
    "\n",
    "df = DataFrame(records)\n",
    "display(df.head(10))"
   ]
  },
  {
   "cell_type": "markdown",
   "metadata": {
    "deletable": true,
    "editable": true
   },
   "source": [
    "Note how Pandas addresses the problem of missing data. \n",
    "\n",
    "When we think of \"missing data\", there are two instances that we find. The first is that there is a field defined /identified but there is no value in this field. This is blank data. But there are times when there is no variable as all, and in such instances, we interpret this as NA (not available).\n",
    "\n",
    "In Pandas DataFrames, we see \"blank\" values as simply field with no value BUT, for missing values, we see these represented as NaN (Not a number).\n",
    "\n",
    "So, for any of our records that have a tz field but have nothing in it, the field will simply display as blank -- nothing in it. On the other hand, any records that don't have a tz field will display a NaN. \n",
    "\n",
    "NOTE: You may ask, why not the None value?  As we have seen in python, a null is represented as a none value. This represents \"nothingness\". So, why NaN rather than none? \n",
    "\n",
    "NaN is actually a standard (https://en.wikipedia.org/wiki/IEEE_floating_point) to is applies across languages. In this, a value that doesn't exist is represented as Nan. Though it's not clear why (somewhere, whomever decided this in Pandas may have explained the inspiration for this), we can assume that it made sense to the Pandas developers to implement NaN. We can also explain this through the need to have two types of \"nothingness\". None represents the lack of a Python object, while NaN represents the lack of a value. \n"
   ]
  },
  {
   "cell_type": "markdown",
   "metadata": {
    "deletable": true,
    "editable": true
   },
   "source": [
    "Now, let's look at which timezones most of the access to the government websites were from:\n",
    "\n",
    "NOTE: `value_counts()` is a method of the Series class (remember, a DataFrame is a data structure conisting of a number of columns of series data)"
   ]
  },
  {
   "cell_type": "code",
   "execution_count": 414,
   "metadata": {
    "collapsed": false,
    "deletable": true,
    "editable": true,
    "scrolled": true
   },
   "outputs": [
    {
     "data": {
      "text/plain": [
       "America/New_York                  1251\n",
       "                                   521\n",
       "America/Chicago                    400\n",
       "America/Los_Angeles                382\n",
       "America/Denver                     191\n",
       "Europe/London                       74\n",
       "Asia/Tokyo                          37\n",
       "Pacific/Honolulu                    36\n",
       "Europe/Madrid                       35\n",
       "America/Sao_Paulo                   33\n",
       "Europe/Berlin                       28\n",
       "Europe/Rome                         27\n",
       "America/Rainy_River                 25\n",
       "Europe/Amsterdam                    22\n",
       "America/Indianapolis                20\n",
       "America/Phoenix                     20\n",
       "Europe/Warsaw                       16\n",
       "America/Mexico_City                 15\n",
       "Europe/Stockholm                    14\n",
       "Europe/Paris                        14\n",
       "America/Vancouver                   12\n",
       "Pacific/Auckland                    11\n",
       "Europe/Prague                       10\n",
       "Europe/Moscow                       10\n",
       "Asia/Hong_Kong                      10\n",
       "Europe/Helsinki                     10\n",
       "Europe/Oslo                         10\n",
       "America/Puerto_Rico                 10\n",
       "Asia/Calcutta                        9\n",
       "America/Montreal                     9\n",
       "                                  ... \n",
       "Europe/Riga                          2\n",
       "Asia/Yekaterinburg                   1\n",
       "Europe/Skopje                        1\n",
       "America/Costa_Rica                   1\n",
       "Asia/Novosibirsk                     1\n",
       "America/Mazatlan                     1\n",
       "Asia/Pontianak                       1\n",
       "America/Argentina/Buenos_Aires       1\n",
       "Asia/Nicosia                         1\n",
       "Asia/Riyadh                          1\n",
       "America/Argentina/Cordoba            1\n",
       "America/Caracas                      1\n",
       "America/Argentina/Mendoza            1\n",
       "Europe/Sofia                         1\n",
       "Europe/Ljubljana                     1\n",
       "America/Monterrey                    1\n",
       "Australia/Queensland                 1\n",
       "America/St_Kitts                     1\n",
       "America/Lima                         1\n",
       "Asia/Manila                          1\n",
       "America/Tegucigalpa                  1\n",
       "Africa/Lusaka                        1\n",
       "America/La_Paz                       1\n",
       "Asia/Kuching                         1\n",
       "Africa/Casablanca                    1\n",
       "Europe/Uzhgorod                      1\n",
       "Africa/Johannesburg                  1\n",
       "Europe/Volgograd                     1\n",
       "America/Santo_Domingo                1\n",
       "America/Montevideo                   1\n",
       "Name: tz, dtype: int64"
      ]
     },
     "metadata": {},
     "output_type": "display_data"
    }
   ],
   "source": [
    "display(df['tz'].value_counts())"
   ]
  },
  {
   "cell_type": "markdown",
   "metadata": {
    "deletable": true,
    "editable": true
   },
   "source": [
    "But, as we saw from looking at previously, there are a number of records which don't have any tz value. How is this handled in a DatFrame? As mentioned previously, any missing value is loaded in the DataFrame as value NaN (not a number). Generally, any aggregration functions (such as value_counts()) will simply ignore NaNs. Under most circumstances, this is what we want (the alternative would be to throw and exception). But, what if the NaN's represented some information that you wanted to use in same way?\n",
    "\n",
    "Let's look at how we can work with NaN's a little more."
   ]
  },
  {
   "cell_type": "markdown",
   "metadata": {
    "deletable": true,
    "editable": true
   },
   "source": [
    "Let's count the number of NaNs. To do this, we use  method called 'isnull'"
   ]
  },
  {
   "cell_type": "code",
   "execution_count": 415,
   "metadata": {
    "collapsed": false,
    "deletable": true,
    "editable": true,
    "scrolled": true
   },
   "outputs": [
    {
     "data": {
      "text/plain": [
       "120"
      ]
     },
     "execution_count": 415,
     "metadata": {},
     "output_type": "execute_result"
    }
   ],
   "source": [
    "df['tz'].isnull().sum()"
   ]
  },
  {
   "cell_type": "markdown",
   "metadata": {
    "deletable": true,
    "editable": true
   },
   "source": [
    "But, notice, that is we count the number of Nan's (nulls) output from value_counts(), we get zero"
   ]
  },
  {
   "cell_type": "code",
   "execution_count": 416,
   "metadata": {
    "collapsed": false,
    "deletable": true,
    "editable": true
   },
   "outputs": [
    {
     "data": {
      "text/plain": [
       "0"
      ]
     },
     "execution_count": 416,
     "metadata": {},
     "output_type": "execute_result"
    }
   ],
   "source": [
    "df['tz'].value_counts().isnull().sum()"
   ]
  },
  {
   "cell_type": "markdown",
   "metadata": {
    "deletable": true,
    "editable": true
   },
   "source": [
    "Now, how would we see a count of any missing timezones in our summary? \n",
    "\n",
    "We could use the `fillna()` to fill these NaN's with whatever value we wanted."
   ]
  },
  {
   "cell_type": "code",
   "execution_count": 417,
   "metadata": {
    "collapsed": false,
    "deletable": true,
    "editable": true
   },
   "outputs": [],
   "source": [
    "tz_counts=df['tz'].fillna('Missing').value_counts()"
   ]
  },
  {
   "cell_type": "markdown",
   "metadata": {
    "deletable": true,
    "editable": true
   },
   "source": [
    "Now, when we look at the output, we seem the \"missing\" values are not included in our summary."
   ]
  },
  {
   "cell_type": "code",
   "execution_count": 418,
   "metadata": {
    "collapsed": false,
    "deletable": true,
    "editable": true
   },
   "outputs": [
    {
     "data": {
      "text/plain": [
       "America/New_York                  1251\n",
       "                                   521\n",
       "America/Chicago                    400\n",
       "America/Los_Angeles                382\n",
       "America/Denver                     191\n",
       "Missing                            120\n",
       "Europe/London                       74\n",
       "Asia/Tokyo                          37\n",
       "Pacific/Honolulu                    36\n",
       "Europe/Madrid                       35\n",
       "America/Sao_Paulo                   33\n",
       "Europe/Berlin                       28\n",
       "Europe/Rome                         27\n",
       "America/Rainy_River                 25\n",
       "Europe/Amsterdam                    22\n",
       "America/Phoenix                     20\n",
       "America/Indianapolis                20\n",
       "Europe/Warsaw                       16\n",
       "America/Mexico_City                 15\n",
       "Europe/Stockholm                    14\n",
       "Europe/Paris                        14\n",
       "America/Vancouver                   12\n",
       "Pacific/Auckland                    11\n",
       "Europe/Moscow                       10\n",
       "Asia/Hong_Kong                      10\n",
       "Europe/Helsinki                     10\n",
       "America/Puerto_Rico                 10\n",
       "Europe/Prague                       10\n",
       "Europe/Oslo                         10\n",
       "Asia/Istanbul                        9\n",
       "                                  ... \n",
       "Africa/Ceuta                         2\n",
       "America/St_Kitts                     1\n",
       "Asia/Pontianak                       1\n",
       "America/Caracas                      1\n",
       "Europe/Volgograd                     1\n",
       "America/Argentina/Mendoza            1\n",
       "Asia/Novosibirsk                     1\n",
       "Africa/Johannesburg                  1\n",
       "Asia/Yekaterinburg                   1\n",
       "Europe/Ljubljana                     1\n",
       "Europe/Uzhgorod                      1\n",
       "America/Costa_Rica                   1\n",
       "America/Argentina/Buenos_Aires       1\n",
       "Europe/Skopje                        1\n",
       "Asia/Nicosia                         1\n",
       "America/Mazatlan                     1\n",
       "Australia/Queensland                 1\n",
       "America/Lima                         1\n",
       "Asia/Riyadh                          1\n",
       "America/Tegucigalpa                  1\n",
       "Africa/Lusaka                        1\n",
       "America/Argentina/Cordoba            1\n",
       "Europe/Sofia                         1\n",
       "America/Monterrey                    1\n",
       "America/Montevideo                   1\n",
       "Asia/Manila                          1\n",
       "America/La_Paz                       1\n",
       "Africa/Casablanca                    1\n",
       "America/Santo_Domingo                1\n",
       "Asia/Kuching                         1\n",
       "Name: tz, dtype: int64"
      ]
     },
     "execution_count": 418,
     "metadata": {},
     "output_type": "execute_result"
    }
   ],
   "source": [
    "tz_counts"
   ]
  },
  {
   "cell_type": "markdown",
   "metadata": {
    "deletable": true,
    "editable": true
   },
   "source": [
    "Now, how would we make blank values known to us? We could do the following:"
   ]
  },
  {
   "cell_type": "code",
   "execution_count": 421,
   "metadata": {
    "collapsed": false,
    "deletable": true,
    "editable": true,
    "scrolled": true
   },
   "outputs": [
    {
     "data": {
      "text/plain": [
       "America/New_York       1251\n",
       "Unkown                  521\n",
       "America/Chicago         400\n",
       "America/Los_Angeles     382\n",
       "America/Denver          191\n",
       "Missing                 120\n",
       "Europe/London            74\n",
       "Asia/Tokyo               37\n",
       "Pacific/Honolulu         36\n",
       "Europe/Madrid            35\n",
       "Name: tz, dtype: int64"
      ]
     },
     "execution_count": 421,
     "metadata": {},
     "output_type": "execute_result"
    }
   ],
   "source": [
    "clean_tz= df['tz'].fillna('Missing')\n",
    "clean_tz[clean_tz==''] = \"Unkown\"\n",
    "tz_counts = clean_tz.value_counts()\n",
    "tz_counts[:10]\n"
   ]
  },
  {
   "cell_type": "code",
   "execution_count": 429,
   "metadata": {
    "collapsed": false,
    "deletable": true,
    "editable": true
   },
   "outputs": [
    {
     "data": {
      "text/plain": [
       "<matplotlib.axes._subplots.AxesSubplot at 0xb1dea2dfd0>"
      ]
     },
     "execution_count": 429,
     "metadata": {},
     "output_type": "execute_result"
    },
    {
     "data": {
      "image/png": "[encoded data removed]",
      "text/plain": [
       "<matplotlib.figure.Figure at 0xb1dea93048>"
      ]
     },
     "metadata": {},
     "output_type": "display_data"
    }
   ],
   "source": [
    "%matplotlib inline\n",
    "tz_counts[:10].plot(kind='bar')"
   ]
  },
  {
   "cell_type": "markdown",
   "metadata": {
    "deletable": true,
    "editable": true
   },
   "source": [
    "Or, if we wanted a horizontal view"
   ]
  },
  {
   "cell_type": "code",
   "execution_count": 431,
   "metadata": {
    "collapsed": false,
    "deletable": true,
    "editable": true
   },
   "outputs": [
    {
     "data": {
      "text/plain": [
       "<matplotlib.axes._subplots.AxesSubplot at 0xb1deb7aa90>"
      ]
     },
     "execution_count": 431,
     "metadata": {},
     "output_type": "execute_result"
    },
    {
     "data": {
      "image/png": "[encoded data removed]",
      "text/plain": [
       "<matplotlib.figure.Figure at 0xb1df02ceb8>"
      ]
     },
     "metadata": {},
     "output_type": "display_data"
    }
   ],
   "source": [
    "tz_counts[:10].plot(kind='barh')"
   ]
  },
  {
   "cell_type": "markdown",
   "metadata": {
    "deletable": true,
    "editable": true
   },
   "source": [
    "## Summary of DataFrame Basics"
   ]
  },
  {
   "cell_type": "markdown",
   "metadata": {
    "deletable": true,
    "editable": true
   },
   "source": [
    "We can access columns in a Pandas DataFrame as follows"
   ]
  },
  {
   "cell_type": "markdown",
   "metadata": {
    "deletable": true,
    "editable": true
   },
   "source": [
    "* List the columns of the df"
   ]
  },
  {
   "cell_type": "code",
   "execution_count": 432,
   "metadata": {
    "collapsed": false,
    "deletable": true,
    "editable": true
   },
   "outputs": [
    {
     "data": {
      "text/plain": [
       "array(['_heartbeat_', 'a', 'al', 'c', 'cy', 'g', 'gr', 'h', 'hc', 'hh',\n",
       "       'kw', 'l', 'll', 'nk', 'r', 't', 'tz', 'u'], dtype=object)"
      ]
     },
     "execution_count": 432,
     "metadata": {},
     "output_type": "execute_result"
    }
   ],
   "source": [
    "df.columns.values"
   ]
  },
  {
   "cell_type": "markdown",
   "metadata": {
    "deletable": true,
    "editable": true
   },
   "source": [
    "* translate an  array datastructure to a list"
   ]
  },
  {
   "cell_type": "code",
   "execution_count": 433,
   "metadata": {
    "collapsed": false,
    "deletable": true,
    "editable": true
   },
   "outputs": [
    {
     "data": {
      "text/plain": [
       "['_heartbeat_',\n",
       " 'a',\n",
       " 'al',\n",
       " 'c',\n",
       " 'cy',\n",
       " 'g',\n",
       " 'gr',\n",
       " 'h',\n",
       " 'hc',\n",
       " 'hh',\n",
       " 'kw',\n",
       " 'l',\n",
       " 'll',\n",
       " 'nk',\n",
       " 'r',\n",
       " 't',\n",
       " 'tz',\n",
       " 'u']"
      ]
     },
     "execution_count": 433,
     "metadata": {},
     "output_type": "execute_result"
    }
   ],
   "source": [
    "df.columns.values.tolist()"
   ]
  },
  {
   "cell_type": "markdown",
   "metadata": {
    "deletable": true,
    "editable": true
   },
   "source": [
    "* access any one column of data (remember, each column is  a Series ), and any slice of rows from this columns"
   ]
  },
  {
   "cell_type": "code",
   "execution_count": 438,
   "metadata": {
    "collapsed": false,
    "deletable": true,
    "editable": true,
    "scrolled": true
   },
   "outputs": [
    {
     "data": {
      "text/plain": [
       "0    America/New_York\n",
       "1      America/Denver\n",
       "2    America/New_York\n",
       "Name: tz, dtype: object"
      ]
     },
     "execution_count": 438,
     "metadata": {},
     "output_type": "execute_result"
    }
   ],
   "source": [
    "df.tz[:3]"
   ]
  },
  {
   "cell_type": "code",
   "execution_count": 439,
   "metadata": {
    "collapsed": false,
    "deletable": true,
    "editable": true
   },
   "outputs": [
    {
     "data": {
      "text/plain": [
       "0    America/New_York\n",
       "1      America/Denver\n",
       "2    America/New_York\n",
       "Name: tz, dtype: object"
      ]
     },
     "execution_count": 439,
     "metadata": {},
     "output_type": "execute_result"
    }
   ],
   "source": [
    "df['tz'][:3]"
   ]
  },
  {
   "cell_type": "code",
   "execution_count": 441,
   "metadata": {
    "collapsed": false,
    "deletable": true,
    "editable": true
   },
   "outputs": [
    {
     "data": {
      "text/plain": [
       "3    Mozilla/5.0 (Macintosh; Intel Mac OS X 10_6_8)...\n",
       "4    Mozilla/5.0 (Windows NT 6.1; WOW64) AppleWebKi...\n",
       "Name: a, dtype: object"
      ]
     },
     "execution_count": 441,
     "metadata": {},
     "output_type": "execute_result"
    }
   ],
   "source": [
    "df.a[3:5]"
   ]
  },
  {
   "cell_type": "markdown",
   "metadata": {
    "deletable": true,
    "editable": true
   },
   "source": [
    "Remember, we can use standard Python concepts and functions -- such as a list comprehension, and methods like spplit.\n",
    "\n",
    "\n",
    "For instance, let's say we wanted to find a list of all browsers that accessed the site (we may want to know this to help guide website design)..."
   ]
  },
  {
   "cell_type": "code",
   "execution_count": 444,
   "metadata": {
    "collapsed": false,
    "deletable": true,
    "editable": true
   },
   "outputs": [
    {
     "data": {
      "text/plain": [
       "0               Mozilla/5.0\n",
       "1    GoogleMaps/RochesterNY\n",
       "2               Mozilla/4.0\n",
       "3               Mozilla/5.0\n",
       "4               Mozilla/5.0\n",
       "dtype: object"
      ]
     },
     "execution_count": 444,
     "metadata": {},
     "output_type": "execute_result"
    }
   ],
   "source": [
    "results = Series([x.split()[0] for x in df.a.dropna()]) # note, dropna() is a nice shortcut to remove any nan's\n",
    "results[:5]"
   ]
  },
  {
   "cell_type": "markdown",
   "metadata": {
    "deletable": true,
    "editable": true
   },
   "source": [
    "And then look at the first 10 most common browsers used to access the governemnt sites"
   ]
  },
  {
   "cell_type": "code",
   "execution_count": 445,
   "metadata": {
    "collapsed": false,
    "deletable": true,
    "editable": true
   },
   "outputs": [
    {
     "data": {
      "text/plain": [
       "Mozilla/5.0                 2594\n",
       "Mozilla/4.0                  601\n",
       "GoogleMaps/RochesterNY       121\n",
       "Opera/9.80                    34\n",
       "TEST_INTERNET_AGENT           24\n",
       "GoogleProducer                21\n",
       "Mozilla/6.0                    5\n",
       "BlackBerry8520/5.0.0.681       4\n",
       "BlackBerry8520/5.0.0.592       3\n",
       "Dalvik/1.4.0                   3\n",
       "dtype: int64"
      ]
     },
     "execution_count": 445,
     "metadata": {},
     "output_type": "execute_result"
    }
   ],
   "source": [
    "results.value_counts()[:10]"
   ]
  }
 ],
 "metadata": {
  "kernelspec": {
   "display_name": "Python 3",
   "language": "python",
   "name": "python3"
  },
  "language_info": {
   "codemirror_mode": {
    "name": "ipython",
    "version": 3
   },
   "file_extension": ".py",
   "mimetype": "text/x-python",
   "name": "python",
   "nbconvert_exporter": "python",
   "pygments_lexer": "ipython3",
   "version": "3.6.0"
  }
 },
 "nbformat": 4,
 "nbformat_minor": 1
}

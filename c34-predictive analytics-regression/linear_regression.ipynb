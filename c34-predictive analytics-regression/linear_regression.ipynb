{
 "cells": [
  {
   "cell_type": "markdown",
   "metadata": {
    "deletable": true,
    "editable": true
   },
   "source": [
    "# Introduction to Linear Regression\n",
    "\n",
    "Linear modeling is on of the more popular and widely used types of models that we employ in data analytics. Linear models are easy to understand, and are (generally) the first (if not only) modeling technique a general business audience may have seen. \n"
   ]
  },
  {
   "cell_type": "markdown",
   "metadata": {
    "deletable": true,
    "editable": true
   },
   "source": [
    "## Let's import our modules"
   ]
  },
  {
   "cell_type": "code",
   "execution_count": 1,
   "metadata": {
    "collapsed": false,
    "deletable": true,
    "editable": true
   },
   "outputs": [],
   "source": [
    "# imports\n",
    "import pandas as pd\n",
    "import matplotlib.pyplot as plt\n",
    "\n",
    "# remember, we need to include this statment to allow plots to appear directly in the notebook\n",
    "%matplotlib inline"
   ]
  },
  {
   "cell_type": "markdown",
   "metadata": {
    "deletable": true,
    "editable": true
   },
   "source": [
    "## Example: Advertising Data\n",
    "\n",
    "The following example data used here is from [An Introdution to Statistical Learning](http://www-bcf.usc.edu/~gareth/ISL/) found [here](http://www-bcf.usc.edu/~gareth/ISL/Advertising.csv))"
   ]
  },
  {
   "cell_type": "code",
   "execution_count": 2,
   "metadata": {
    "collapsed": false,
    "deletable": true,
    "editable": true
   },
   "outputs": [
    {
     "data": {
      "text/html": [
       "<div>\n",
       "<table border=\"1\" class=\"dataframe\">\n",
       "  <thead>\n",
       "    <tr style=\"text-align: right;\">\n",
       "      <th></th>\n",
       "      <th>TV</th>\n",
       "      <th>Radio</th>\n",
       "      <th>Newspaper</th>\n",
       "      <th>Sales</th>\n",
       "    </tr>\n",
       "  </thead>\n",
       "  <tbody>\n",
       "    <tr>\n",
       "      <th>1</th>\n",
       "      <td>230.1</td>\n",
       "      <td>37.8</td>\n",
       "      <td>69.2</td>\n",
       "      <td>22.1</td>\n",
       "    </tr>\n",
       "    <tr>\n",
       "      <th>2</th>\n",
       "      <td>44.5</td>\n",
       "      <td>39.3</td>\n",
       "      <td>45.1</td>\n",
       "      <td>10.4</td>\n",
       "    </tr>\n",
       "    <tr>\n",
       "      <th>3</th>\n",
       "      <td>17.2</td>\n",
       "      <td>45.9</td>\n",
       "      <td>69.3</td>\n",
       "      <td>9.3</td>\n",
       "    </tr>\n",
       "    <tr>\n",
       "      <th>4</th>\n",
       "      <td>151.5</td>\n",
       "      <td>41.3</td>\n",
       "      <td>58.5</td>\n",
       "      <td>18.5</td>\n",
       "    </tr>\n",
       "    <tr>\n",
       "      <th>5</th>\n",
       "      <td>180.8</td>\n",
       "      <td>10.8</td>\n",
       "      <td>58.4</td>\n",
       "      <td>12.9</td>\n",
       "    </tr>\n",
       "  </tbody>\n",
       "</table>\n",
       "</div>"
      ],
      "text/plain": [
       "      TV  Radio  Newspaper  Sales\n",
       "1  230.1   37.8       69.2   22.1\n",
       "2   44.5   39.3       45.1   10.4\n",
       "3   17.2   45.9       69.3    9.3\n",
       "4  151.5   41.3       58.5   18.5\n",
       "5  180.8   10.8       58.4   12.9"
      ]
     },
     "execution_count": 2,
     "metadata": {},
     "output_type": "execute_result"
    }
   ],
   "source": [
    "# read data into a DataFrame\n",
    "adata = pd.read_csv('http://www-bcf.usc.edu/~gareth/ISL/Advertising.csv', index_col=0)\n",
    "adata.head()"
   ]
  },
  {
   "cell_type": "markdown",
   "metadata": {
    "deletable": true,
    "editable": true
   },
   "source": [
    "Remember from last class, in predictive analytics we seek to select and tune **models** that allow us to, given a set of **input values**, **predict** a **target value**. \n",
    "\n",
    "In business, we develop models to help support business decision making proceses. Such processes focus on providing organizational direction and involve some form of decision making. \n",
    "\n",
    "The data above consists of three input variables and one target variable. \n",
    "\n",
    "Inpute: \n",
    "- TV: advertising dollars spent on TV \n",
    "- Radio: advertising dollars spent on Radio\n",
    "- Newspaper: advertising dollars spent on Newspaper\n",
    "\n",
    "In looking at this data, we can see a number of potential questions that can be asked:\n",
    "1. Does increases in advertising spending result in increased sales?\n",
    "3. Given limited spending, which if any, of these advertising mediums shoudl we choose spend out moeny?\n",
    "\n",
    "NOTE1: As discussed in last class, the names that we use for these column can vary across different fields (business analytics, data science, statistics, etc). You may hear explanatory and response variables, or  independent and dependent. Also features, attributes and response or target - or dimensions As I refered to them in last class, I'll try to remain consistent in using the terms input and target variables -- but may also talk about \"dimensions\" as well. \n",
    "\n",
    "NOTE2: The analysis a conduct here does not explore/consider any correlations between the input variables. The intent here is to illustrate regression modeling as a technique for prediction. For further reading see any andvanced textbook dealing with generalized linear modeling. Also, for simplicty sake, we will not be splitting our data into training, validation, or testing datasets (refer to last lecture)."
   ]
  },
  {
   "cell_type": "markdown",
   "metadata": {
    "deletable": true,
    "editable": true
   },
   "source": [
    "## Explore the data"
   ]
  },
  {
   "cell_type": "markdown",
   "metadata": {
    "deletable": true,
    "editable": true
   },
   "source": [
    "Let's identify the nubmer of observations in our dataset"
   ]
  },
  {
   "cell_type": "code",
   "execution_count": 3,
   "metadata": {
    "collapsed": false,
    "deletable": true,
    "editable": true
   },
   "outputs": [
    {
     "data": {
      "text/plain": [
       "200"
      ]
     },
     "execution_count": 3,
     "metadata": {},
     "output_type": "execute_result"
    }
   ],
   "source": [
    "len(adata.index)"
   ]
  },
  {
   "cell_type": "markdown",
   "metadata": {
    "deletable": true,
    "editable": true
   },
   "source": [
    "alternatively, we could use shape "
   ]
  },
  {
   "cell_type": "code",
   "execution_count": 4,
   "metadata": {
    "collapsed": false,
    "deletable": true,
    "editable": true
   },
   "outputs": [
    {
     "data": {
      "text/plain": [
       "200"
      ]
     },
     "execution_count": 4,
     "metadata": {},
     "output_type": "execute_result"
    }
   ],
   "source": [
    "adata.shape[0]"
   ]
  },
  {
   "cell_type": "markdown",
   "metadata": {
    "deletable": true,
    "editable": true
   },
   "source": [
    "From this, we can see there are 200 observations (or cases) in our dataset"
   ]
  },
  {
   "cell_type": "markdown",
   "metadata": {
    "deletable": true,
    "editable": true
   },
   "source": [
    "From visual inspection we can see a that TV would seem to indicate a relationship between TV ad spend and sales. We also see a simular, but weaker relationship between radio ad spend and sales. Finally, though there may be an effect, newspaper ad spend would seem to have the weakest effect. \n"
   ]
  },
  {
   "cell_type": "code",
   "execution_count": 5,
   "metadata": {
    "collapsed": false,
    "deletable": true,
    "editable": true
   },
   "outputs": [
    {
     "data": {
      "text/plain": [
       "<matplotlib.axes._subplots.AxesSubplot at 0x1ab33efb4a8>"
      ]
     },
     "execution_count": 5,
     "metadata": {},
     "output_type": "execute_result"
    },
    {
     "data": {
      "image/png": "[encoded data removed]",
      "text/plain": [
       "<matplotlib.figure.Figure at 0x1ab33c1a2b0>"
      ]
     },
     "metadata": {},
     "output_type": "display_data"
    }
   ],
   "source": [
    "# visualize the relationship between the input and the target variables using scatterplots\n",
    "fig, axs = plt.subplots(1, 3, sharey=True)\n",
    "adata.plot(kind='scatter', x='TV', y='Sales', ax=axs[0], figsize=(16, 8))\n",
    "adata.plot(kind='scatter', x='Radio', y='Sales', ax=axs[1], figsize=(16, 8))\n",
    "adata.plot(kind='scatter', x='Newspaper', y='Sales', ax=axs[2], figsize=(16, 8))"
   ]
  },
  {
   "cell_type": "markdown",
   "metadata": {
    "deletable": true,
    "editable": true
   },
   "source": [
    "## Aligning Units\n",
    "\n",
    "Now, as we often need to deal with in data analytics, we need to ensure we are (whenever possible) aligning our units. Let's say that in this particular case, we had difference in measurement scale - where, advertising spend is represented in 100's of dollars, while sales is represented in 1000's of dollars.  \n",
    "\n",
    "We should therefore,  transform our data to ensure we are using the same measure. "
   ]
  },
  {
   "cell_type": "code",
   "execution_count": 6,
   "metadata": {
    "collapsed": false,
    "deletable": true,
    "editable": true
   },
   "outputs": [],
   "source": [
    "adata.TV = adata['TV'] / 10\n",
    "adata.Radio = adata['Radio'] / 10\n",
    "adata.Newspaper = adata['Newspaper'] / 10"
   ]
  },
  {
   "cell_type": "markdown",
   "metadata": {
    "deletable": true,
    "editable": true
   },
   "source": [
    "But, notice, that despite that transormation, we in essence have the same relationship... the same \"signal\", just the ratio values change under the transformaion of the data. We can see this in the following plots, which (other than the change in units) looks the same as our previous set. \n"
   ]
  },
  {
   "cell_type": "code",
   "execution_count": 7,
   "metadata": {
    "collapsed": false,
    "deletable": true,
    "editable": true
   },
   "outputs": [
    {
     "data": {
      "text/plain": [
       "<matplotlib.axes._subplots.AxesSubplot at 0x1ab340dbeb8>"
      ]
     },
     "execution_count": 7,
     "metadata": {},
     "output_type": "execute_result"
    },
    {
     "data": {
      "image/png": "[encoded data removed]",
      "text/plain": [
       "<matplotlib.figure.Figure at 0x1ab33feaf28>"
      ]
     },
     "metadata": {},
     "output_type": "display_data"
    }
   ],
   "source": [
    "# visualize the relationship between the input and the target variables using scatterplots\n",
    "fig, axs = plt.subplots(1, 3, sharey=True)\n",
    "adata.plot(kind='scatter', x='TV', y='Sales', ax=axs[0], figsize=(16, 8))\n",
    "adata.plot(kind='scatter', x='Radio', y='Sales', ax=axs[1])\n",
    "adata.plot(kind='scatter', x='Newspaper', y='Sales', ax=axs[2])"
   ]
  },
  {
   "cell_type": "markdown",
   "metadata": {
    "deletable": true,
    "editable": true
   },
   "source": [
    "But, in our data... each of the sales measures are __unit sales__ of some unkown product that is sold at some unkown price (we'll call these \"widgets\"). Therefore, let's transform our data back to it's original form"
   ]
  },
  {
   "cell_type": "code",
   "execution_count": 8,
   "metadata": {
    "collapsed": false,
    "deletable": true,
    "editable": true
   },
   "outputs": [],
   "source": [
    "adata.TV = adata['TV'] * 10\n",
    "adata.Radio = adata['Radio'] * 10\n",
    "adata.Newspaper = adata['Newspaper'] * 10"
   ]
  },
  {
   "cell_type": "markdown",
   "metadata": {
    "deletable": true,
    "editable": true
   },
   "source": [
    "## Identify a candidate model to \"tune\"\n",
    "\n",
    "All of you should be familar with linear modeling. You studied linear modeling in statistics when you were exposed to linear regression.\n",
    "\n",
    "We'll build on this knowledge of linear regression to develop a number of linear predictive models, "
   ]
  },
  {
   "cell_type": "markdown",
   "metadata": {
    "deletable": true,
    "editable": true
   },
   "source": [
    "## Developing a Linear Predictive Model \n",
    "\n",
    "Our objective in linear predictive modeling is to find a \"line\" that best fits the data we have and the data we've yet seen('best' are those models that come closest (lease error) to predicting the acctual target variables observed and will be obderved in the future). \n",
    "\n",
    "The form of the model we use is as follows:\n",
    "\n",
    "$y = \\beta_0 + \\beta_1x$\n",
    "\n",
    "What does each term represent?\n",
    "- $y$ is the response\n",
    "- $x$ is the input variable of interst\n",
    "- $\\beta_0$ is the intercept (where, if the input variable were zero, the value of our target would be)\n",
    "- $\\beta_1$ is the coefficient for x\n",
    "\n",
    "Together, $\\beta_0$ and $\\beta_1$ are called the **model coefficients**. We can view these as parameters of our predictive model which we attempt to \"tune\" through a learning process that produces the best fitting line for both current and future data. "
   ]
  },
  {
   "cell_type": "markdown",
   "metadata": {
    "deletable": true,
    "editable": true
   },
   "source": [
    "Tuning the model parameters: \"Learning\" The Model Coefficients\n",
    "\n",
    "We tune the parameters of our model by identifying coefficients through using the **least squares criterion**, which finds the line that  minimizes the difference between the predicted values and any actual target values. "
   ]
  },
  {
   "cell_type": "markdown",
   "metadata": {
    "deletable": true,
    "editable": true
   },
   "source": [
    "<img src=\"./images/errors_linear_model.png\">"
   ]
  },
  {
   "cell_type": "markdown",
   "metadata": {
    "deletable": true,
    "editable": true
   },
   "source": [
    "NOTE: What elements are present in the diagram?\n",
    "- The black dots are the actual **observed values** of our **target variable** (y) at the given the input (x) values.\n",
    "- The blue line represents the values that our model predicts if given any arbitrary input value. \n",
    "- The red lines are the **errors**, which are the differences between the values that our model predicted, and the values we actural observed in our target variable. \n",
    "\n",
    "Since  \"grade school\" you would have been introduced to linear models in the form y = mx + b. In statistics $\\beta_0$ represents the slope, while $\\beta_1 represetns the intercept. "
   ]
  },
  {
   "cell_type": "markdown",
   "metadata": {
    "deletable": true,
    "editable": true
   },
   "source": [
    "<img src=\"./images/slope_intercept.png\">"
   ]
  },
  {
   "cell_type": "markdown",
   "metadata": {
    "collapsed": true,
    "deletable": true,
    "editable": true
   },
   "source": [
    "## Building our model"
   ]
  },
  {
   "cell_type": "markdown",
   "metadata": {
    "deletable": true,
    "editable": true
   },
   "source": [
    "Like most projects in Python, there are many different packages to choose from. For machine learning (learning from data, as we are doing here) the **Scikit-Learn** is the most widely used. We'll use the Scikit-Learn LinearRegression model to estimate the model coefficients for the advertising data (and also use numpy for vector calculations (in our case, to calculate the mean)):"
   ]
  },
  {
   "cell_type": "markdown",
   "metadata": {
    "deletable": true,
    "editable": true
   },
   "source": [
    "Let's first import these packages"
   ]
  },
  {
   "cell_type": "code",
   "execution_count": 9,
   "metadata": {
    "collapsed": false,
    "deletable": true,
    "editable": true
   },
   "outputs": [],
   "source": [
    "from sklearn.linear_model import LinearRegression\n",
    "import numpy as np"
   ]
  },
  {
   "cell_type": "markdown",
   "metadata": {
    "deletable": true,
    "editable": true
   },
   "source": [
    "_NOTE: Scikit-learn can be a bit tricky to install. You first must have numpy, then scipy (in that order) installed. Then, if you install via pip, you'll need vc++ 14 installed. It's just easier though to download a precompiled library \"whl\" file http://www.lfd.uci.edu/~gohlke/pythonlibs/#scikit-learn._ and then pip install scikit_learn‑0.18.1‑cp36‑cp36m‑win_amd64.whl (or whatever the latest version is when you do this).\n",
    "\n",
    "\n",
    "Now, let's develop a simple linear predictive model for each of our three inputs TV, Radio, and Newpaper ad spend."
   ]
  },
  {
   "cell_type": "markdown",
   "metadata": {
    "deletable": true,
    "editable": true
   },
   "source": [
    "### Predicting sales from TV ad spend"
   ]
  },
  {
   "cell_type": "code",
   "execution_count": 10,
   "metadata": {
    "collapsed": false,
    "deletable": true,
    "editable": true,
    "scrolled": true
   },
   "outputs": [
    {
     "name": "stdout",
     "output_type": "stream",
     "text": [
      "7.03259354913\n",
      "[ 0.04753664]\n"
     ]
    }
   ],
   "source": [
    "input_cols = ['TV']\n",
    "tv_spend = adata[input_cols]\n",
    "sales = adata.Sales\n",
    "\n",
    "tv_model = LinearRegression()\n",
    "tv_model.fit(tv_spend, sales)\n",
    "\n",
    "# print intercept and coefficients\n",
    "print(tv_model.intercept_)\n",
    "print(tv_model.coef_)"
   ]
  },
  {
   "cell_type": "markdown",
   "metadata": {
    "deletable": true,
    "editable": true
   },
   "source": [
    "As we can see, the tv_model predicts a 0.047 unit increase in widget sales for every one extra unit spent on TV advertising. \n"
   ]
  },
  {
   "cell_type": "markdown",
   "metadata": {
    "deletable": true,
    "editable": true
   },
   "source": [
    "We now have a model that we can use to predict values (in this case, sales) from a given set of inputs (in this case, spend on TV advertising)"
   ]
  },
  {
   "cell_type": "code",
   "execution_count": 11,
   "metadata": {
    "collapsed": false,
    "deletable": true,
    "editable": true,
    "scrolled": true
   },
   "outputs": [
    {
     "data": {
      "text/plain": [
       "array([ 17.97077451,   9.14797405,   7.85022376,  14.23439457,\n",
       "        15.62721814,   7.44616232,   9.76595037,  12.74649773,\n",
       "         7.44140866,  16.53041431,  10.17476548,  17.23871025,\n",
       "         8.16396559,  11.66741599,  16.73482186,  16.32125309,\n",
       "        10.25557777,  20.40940417,  10.32212907,  14.03474068,\n",
       "        17.41459582,  18.31779199,   7.6600772 ,  17.88520856,\n",
       "         9.99412625,  19.52997632,  13.82557947,  18.44614092,\n",
       "        18.85970969,  10.38868036,  20.95607553,  12.39948025,\n",
       "        11.653155  ,  19.65832525,  11.58185004,  20.85149492,\n",
       "        19.72012288,  10.58358059,   9.08142275,  17.87094757,\n",
       "        16.65876324,  15.44657891,  20.98935118,  16.86792445,\n",
       "         8.22576322,  15.35625929,  11.2966302 ,  18.43663359,\n",
       "        17.83291826,  10.21279479,  16.53041431,  11.80527225,\n",
       "        17.31952254,  15.71278409,  19.52046899,  16.48763133,\n",
       "         7.37961102,  13.50708398,  17.05331735,  17.04856369,\n",
       "         9.57580381,  19.45391769,  18.4081116 ,  11.91460652,\n",
       "        13.26464711,  10.31262174,   8.52999772,  13.65444756,\n",
       "        18.31779199,  17.3385372 ,  16.49713866,  12.25211667,\n",
       "         8.30657551,  13.18383482,  17.17691262,   7.83596277,\n",
       "         8.33985116,  12.76075872,   7.28929141,  12.54684384,\n",
       "        10.66439288,  18.43187992,  10.61210257,  10.28409975,\n",
       "        17.18166628,  16.21667248,  10.65963921,  12.29489965,\n",
       "        11.2300789 ,  12.25211667,  13.41676436,   8.39214147,\n",
       "        17.38132017,  18.95953663,  12.13802873,  14.79532693,\n",
       "        16.4258337 ,  15.82211837,  20.80395828,  13.45954734,\n",
       "        17.60474238,  21.12245377,  20.3523602 ,  15.96472829,\n",
       "        18.3558213 ,  13.58789626,   8.22100956,  11.32990584,\n",
       "         7.65532354,  19.17345152,  17.76636696,  18.52219954,\n",
       "        15.38478127,  16.99627338,  10.74995883,  10.60259525,\n",
       "        13.6496939 ,  10.66439288,  13.00794925,   7.95480437,\n",
       "        13.74952084,   7.92628239,  17.68080101,  12.88435399,\n",
       "        17.94225253,  11.17778859,   7.40337934,  10.84503211,\n",
       "        17.50491544,   9.86577732,   7.0658692 ,  19.63931059,\n",
       "         7.43190133,  17.48114712,   8.78669558,   9.32861328,\n",
       "         8.24953154,  20.04337204,   9.07666909,  15.82211837,\n",
       "        10.52178296,  16.2404408 ,  17.51442276,  12.00492614,\n",
       "        11.60561836,  13.7019842 ,  18.44614092,  18.5935045 ,\n",
       "         8.83898589,   9.15748138,  20.37612852,  12.78452704,\n",
       "        16.4258337 ,  15.17562006,  15.95997462,   7.22749377,\n",
       "        11.49628409,  14.15358229,   7.58877224,  13.29316909,\n",
       "        15.23266402,  11.10648363,  15.98849661,  14.80483426,\n",
       "        12.60388781,  18.17993573,   7.88349941,  16.86317079,\n",
       "        17.2719859 ,  20.54726042,   9.40942557,  14.8523709 ,\n",
       "         7.9643117 ,  15.0377638 ,  17.60474238,  20.19548929,\n",
       "        18.84069503,  15.12332975,  20.18598196,  14.9046612 ,\n",
       "        14.47683144,  17.41934948,   9.70415274,  20.70413134,\n",
       "        19.09739289,  16.77760484,  13.66395489,  16.11684554,\n",
       "        20.62807271,   7.92152873,   8.91029085,  10.6216099 ,\n",
       "         7.85022376,  14.96170517,  14.14882862,   8.84849321,\n",
       "        11.51054508,  15.44657891,  20.51398478,  18.06584779])"
      ]
     },
     "execution_count": 11,
     "metadata": {},
     "output_type": "execute_result"
    }
   ],
   "source": [
    "tv_model.predict(tv_spend)"
   ]
  },
  {
   "cell_type": "markdown",
   "metadata": {
    "deletable": true,
    "editable": true
   },
   "source": [
    "And, if we want to visualize our model..."
   ]
  },
  {
   "cell_type": "code",
   "execution_count": 12,
   "metadata": {
    "collapsed": false,
    "deletable": true,
    "editable": true
   },
   "outputs": [
    {
     "data": {
      "text/plain": [
       "[<matplotlib.lines.Line2D at 0x1ab35266ba8>]"
      ]
     },
     "execution_count": 12,
     "metadata": {},
     "output_type": "execute_result"
    },
    {
     "data": {
      "image/png": "[encoded data removed]",
      "text/plain": [
       "<matplotlib.figure.Figure at 0x1ab35266940>"
      ]
     },
     "metadata": {},
     "output_type": "display_data"
    }
   ],
   "source": [
    "# first, plot the observed data\n",
    "adata.plot(kind='scatter', x='TV', y='Sales')\n",
    "\n",
    "# then, plot the least squares line\n",
    "plt.plot(tv_spend, tv_model.predict(tv_spend), c='red', linewidth=2)"
   ]
  },
  {
   "cell_type": "markdown",
   "metadata": {},
   "source": [
    "_NOTE: For those students with data modeling experience, you may notice from the scatterplot that there is evidence of heteroskedasticity. For ths course, we will not concern ourselves with this level of detail - but, you're welcome to \"tune your models\" accordingly. _"
   ]
  },
  {
   "cell_type": "markdown",
   "metadata": {
    "deletable": true,
    "editable": true
   },
   "source": [
    "Now, we can use this model to answer a couple key questions:"
   ]
  },
  {
   "cell_type": "markdown",
   "metadata": {
    "deletable": true,
    "editable": true
   },
   "source": [
    "__1) If our current spend on TV ads is \\$2,000, what would our expected impact on sales if we increase our TV ad spending to \\$3,000?__"
   ]
  },
  {
   "cell_type": "code",
   "execution_count": 13,
   "metadata": {
    "collapsed": false,
    "deletable": true,
    "editable": true
   },
   "outputs": [
    {
     "data": {
      "text/plain": [
       "array([ 47.53664043])"
      ]
     },
     "execution_count": 13,
     "metadata": {},
     "output_type": "execute_result"
    }
   ],
   "source": [
    "tv_model.predict(3000) - tv_model.predict(2000)"
   ]
  },
  {
   "cell_type": "code",
   "execution_count": 28,
   "metadata": {
    "collapsed": false
   },
   "outputs": [
    {
     "data": {
      "text/plain": [
       "47.536640433019755"
      ]
     },
     "execution_count": 28,
     "metadata": {},
     "output_type": "execute_result"
    }
   ],
   "source": [
    "(tv_model.predict(3000) - tv_model.predict(2000))[0]"
   ]
  },
  {
   "cell_type": "markdown",
   "metadata": {},
   "source": [
    "So, using our model, we would predict the sales to increase by 47.54 units.\n",
    "\n"
   ]
  },
  {
   "cell_type": "markdown",
   "metadata": {},
   "source": [
    "__2) If we spent \\$2,350 on TV advertising, what would we expect our units sales to be?__"
   ]
  },
  {
   "cell_type": "code",
   "execution_count": 15,
   "metadata": {
    "collapsed": false,
    "deletable": true,
    "editable": true
   },
   "outputs": [
    {
     "data": {
      "text/plain": [
       "118.74369856672408"
      ]
     },
     "execution_count": 15,
     "metadata": {},
     "output_type": "execute_result"
    }
   ],
   "source": [
    "(float)(tv_model.predict(2350))"
   ]
  },
  {
   "cell_type": "markdown",
   "metadata": {
    "deletable": true,
    "editable": true
   },
   "source": [
    "NOTE: Though we've followed the statistical technique to build our model - How \"reasonable\" it is to use this model to answer such questions depends on the influence of possible other \"unmeasured\" factors and on our sample/historical data. This modeling is included here as an illustration. \"Is it good enough\" involves many factors, including what our expectations are surrounding it's accuracy (sometimes we want something \"rough\", but we must be careful that other might not realize this and overestimate the models predictive capacity). As discussed in last class, we have various ways of increasing the predictive capacity of a model -- getting lot's and lot's of data is one of them, also, splitting out sample (if large enough) into training, validation, and test data and conducting multiple model builds. "
   ]
  },
  {
   "cell_type": "markdown",
   "metadata": {
    "deletable": true,
    "editable": true
   },
   "source": [
    "### Create models that predict resulting sales from Radio and Newspaper ad spending"
   ]
  },
  {
   "cell_type": "markdown",
   "metadata": {
    "deletable": true,
    "editable": true
   },
   "source": [
    "Simular to what we did with TV ad spend, let's create a \"rough model\" for Radio and Newspaper spending."
   ]
  },
  {
   "cell_type": "markdown",
   "metadata": {
    "deletable": true,
    "editable": true
   },
   "source": [
    "#### Radio spending"
   ]
  },
  {
   "cell_type": "code",
   "execution_count": 16,
   "metadata": {
    "collapsed": false,
    "deletable": true,
    "editable": true
   },
   "outputs": [
    {
     "name": "stdout",
     "output_type": "stream",
     "text": [
      "9.31163809516\n",
      "[ 0.20249578]\n"
     ]
    }
   ],
   "source": [
    "input_cols = ['Radio']\n",
    "radio_spend = adata[input_cols]\n",
    "sales = adata.Sales\n",
    "\n",
    "radio_model = LinearRegression()\n",
    "radio_model.fit(radio_spend, sales)\n",
    "\n",
    "# print intercept and coefficients\n",
    "print(radio_model.intercept_)\n",
    "print(radio_model.coef_)"
   ]
  },
  {
   "cell_type": "code",
   "execution_count": 17,
   "metadata": {
    "collapsed": false,
    "deletable": true,
    "editable": true,
    "scrolled": true
   },
   "outputs": [
    {
     "data": {
      "text/plain": [
       "[<matplotlib.lines.Line2D at 0x1ab352667b8>]"
      ]
     },
     "execution_count": 17,
     "metadata": {},
     "output_type": "execute_result"
    },
    {
     "data": {
      "image/png": "[encoded data removed]",
      "text/plain": [
       "<matplotlib.figure.Figure at 0x1ab352667f0>"
      ]
     },
     "metadata": {},
     "output_type": "display_data"
    }
   ],
   "source": [
    "# first, plot the observed data\n",
    "adata.plot(kind='scatter', x='Radio', y='Sales')\n",
    "\n",
    "# then, plot the least squares line\n",
    "plt.plot(radio_spend, radio_model.predict(radio_spend), c='red', linewidth=2)"
   ]
  },
  {
   "cell_type": "code",
   "execution_count": 29,
   "metadata": {
    "collapsed": false
   },
   "outputs": [
    {
     "data": {
      "text/plain": [
       "202.49578339243965"
      ]
     },
     "execution_count": 29,
     "metadata": {},
     "output_type": "execute_result"
    }
   ],
   "source": [
    "(radio_model.predict(3000) - radio_model.predict(2000))[0]"
   ]
  },
  {
   "cell_type": "markdown",
   "metadata": {},
   "source": [
    "Out model indicates that we should expect a 202.50 increase in units sold is we increase from 2000 to 3000 in spending. \n",
    "\n",
    "Or more generally, one unit of increased spend would equal..."
   ]
  },
  {
   "cell_type": "code",
   "execution_count": 31,
   "metadata": {
    "collapsed": false,
    "scrolled": false
   },
   "outputs": [
    {
     "data": {
      "text/plain": [
       "0.20249578339243968"
      ]
     },
     "execution_count": 31,
     "metadata": {},
     "output_type": "execute_result"
    }
   ],
   "source": [
    "(radio_model.predict(1) - radio_model.predict(0))[0]"
   ]
  },
  {
   "cell_type": "markdown",
   "metadata": {},
   "source": [
    "...A 0.2025 increase in units sold"
   ]
  },
  {
   "cell_type": "markdown",
   "metadata": {
    "deletable": true,
    "editable": true
   },
   "source": [
    "#### Newspaper spending"
   ]
  },
  {
   "cell_type": "code",
   "execution_count": 18,
   "metadata": {
    "collapsed": false,
    "deletable": true,
    "editable": true
   },
   "outputs": [
    {
     "name": "stdout",
     "output_type": "stream",
     "text": [
      "12.3514070693\n",
      "[ 0.0546931]\n"
     ]
    }
   ],
   "source": [
    "input_cols = ['Newspaper']\n",
    "newspaper_spend = adata[input_cols]\n",
    "sales = adata.Sales\n",
    "\n",
    "newspaper_model = LinearRegression()\n",
    "newspaper_model.fit(newspaper_spend, sales)\n",
    "\n",
    "# print intercept and coefficients\n",
    "print(newspaper_model.intercept_)\n",
    "print(newspaper_model.coef_)"
   ]
  },
  {
   "cell_type": "code",
   "execution_count": 19,
   "metadata": {
    "collapsed": false,
    "deletable": true,
    "editable": true
   },
   "outputs": [
    {
     "data": {
      "text/plain": [
       "[<matplotlib.lines.Line2D at 0x1ab365cbbe0>]"
      ]
     },
     "execution_count": 19,
     "metadata": {},
     "output_type": "execute_result"
    },
    {
     "data": {
      "image/png": "[encoded data removed]",
      "text/plain": [
       "<matplotlib.figure.Figure at 0x1ab365cbb00>"
      ]
     },
     "metadata": {},
     "output_type": "display_data"
    }
   ],
   "source": [
    "# first, plot the observed data\n",
    "adata.plot(kind='scatter', x='Newspaper', y='Sales')\n",
    "\n",
    "# then, plot the least squares line\n",
    "plt.plot(newspaper_spend, newspaper_model.predict(newspaper_spend), c='red', linewidth=2)"
   ]
  },
  {
   "cell_type": "code",
   "execution_count": 32,
   "metadata": {
    "collapsed": false
   },
   "outputs": [
    {
     "data": {
      "text/plain": [
       "0.054693098472274215"
      ]
     },
     "execution_count": 32,
     "metadata": {},
     "output_type": "execute_result"
    }
   ],
   "source": [
    "(newspaper_model.predict(1) - newspaper_model.predict(0))[0]"
   ]
  },
  {
   "cell_type": "markdown",
   "metadata": {
    "deletable": true,
    "editable": true
   },
   "source": [
    "## How Well Does the Model Fit the data?\n",
    "\n",
    "The most common way to evaluate the overall fit of a linear model is by the **R-squared** value. R-squared is the **proportion of variance explained**, meaning the proportion of variance in the observed data that is explained by the model, or the reduction in error over the **null model**. (The null model just predicts the mean of the observed response, and thus it has an intercept and no slope.)"
   ]
  },
  {
   "cell_type": "markdown",
   "metadata": {
    "deletable": true,
    "editable": true
   },
   "source": [
    "There are many measures we can use. Once such measure is the mean square error for our tv_model predictions.\n",
    "\n",
    "Here, we calculate the root mean square error for each of our three predictive models"
   ]
  },
  {
   "cell_type": "code",
   "execution_count": 20,
   "metadata": {
    "collapsed": false,
    "deletable": true,
    "editable": true,
    "scrolled": false
   },
   "outputs": [
    {
     "data": {
      "text/plain": [
       "2.5498060389274864"
      ]
     },
     "execution_count": 20,
     "metadata": {},
     "output_type": "execute_result"
    }
   ],
   "source": [
    "import numpy as np\n",
    "np.mean(((tv_model.predict(tv_spend) - sales) ** 2)**.5)"
   ]
  },
  {
   "cell_type": "code",
   "execution_count": 21,
   "metadata": {
    "collapsed": false,
    "deletable": true,
    "editable": true
   },
   "outputs": [
    {
     "data": {
      "text/plain": [
       "3.3202187976420667"
      ]
     },
     "execution_count": 21,
     "metadata": {},
     "output_type": "execute_result"
    }
   ],
   "source": [
    "np.mean(((radio_model.predict(radio_spend) - sales) ** 2) **.5)"
   ]
  },
  {
   "cell_type": "code",
   "execution_count": 22,
   "metadata": {
    "collapsed": false,
    "deletable": true,
    "editable": true
   },
   "outputs": [
    {
     "data": {
      "text/plain": [
       "4.1465597438384876"
      ]
     },
     "execution_count": 22,
     "metadata": {},
     "output_type": "execute_result"
    }
   ],
   "source": [
    "np.mean(((newspaper_model.predict(newspaper_spend) - sales) ** 2) **.5)"
   ]
  },
  {
   "cell_type": "markdown",
   "metadata": {
    "deletable": true,
    "editable": true
   },
   "source": [
    "This RMSE value represents the average number of widgets our predicted value is off from our target value. Is this acceptable? Answering this depends heavily on the context, what our expectations are, and needs are. "
   ]
  },
  {
   "cell_type": "markdown",
   "metadata": {
    "deletable": true,
    "editable": true
   },
   "source": [
    "From your previous statistics courses, you should be familiar with R-squared. \n",
    "\n",
    "Let's calculate the R-squared value for each of our predictive models:"
   ]
  },
  {
   "cell_type": "code",
   "execution_count": 23,
   "metadata": {
    "collapsed": false,
    "deletable": true,
    "editable": true,
    "scrolled": true
   },
   "outputs": [
    {
     "data": {
      "text/plain": [
       "0.61187505085007099"
      ]
     },
     "execution_count": 23,
     "metadata": {},
     "output_type": "execute_result"
    }
   ],
   "source": [
    "# print the R-squared value for the model\n",
    "tv_model.score(tv_spend, sales)"
   ]
  },
  {
   "cell_type": "code",
   "execution_count": 24,
   "metadata": {
    "collapsed": false,
    "deletable": true,
    "editable": true
   },
   "outputs": [
    {
     "data": {
      "text/plain": [
       "0.33203245544529525"
      ]
     },
     "execution_count": 24,
     "metadata": {},
     "output_type": "execute_result"
    }
   ],
   "source": [
    "radio_model.score(radio_spend, sales)"
   ]
  },
  {
   "cell_type": "code",
   "execution_count": 25,
   "metadata": {
    "collapsed": false,
    "deletable": true,
    "editable": true
   },
   "outputs": [
    {
     "data": {
      "text/plain": [
       "0.052120445444305163"
      ]
     },
     "execution_count": 25,
     "metadata": {},
     "output_type": "execute_result"
    }
   ],
   "source": [
    "newspaper_model.score(newspaper_spend, sales)"
   ]
  },
  {
   "cell_type": "markdown",
   "metadata": {
    "deletable": true,
    "editable": true
   },
   "source": [
    "As we start to introduce more traditional statistical measures of fit, we must be aware that many of these measures are only accurate under conditions such as normality of the error in our prediction across all possible input values, or that this error doesn't change as we increase or decrease our input values, etc. \n",
    "\n",
    "What assumptions are reasonable? As I discussed in the last lecture, our answer to this question relies on our underlying assumptions and in our understanding of the context in which we are using these models. \n"
   ]
  },
  {
   "cell_type": "markdown",
   "metadata": {
    "deletable": true,
    "editable": true
   },
   "source": [
    "__Are these \"good\" measures of fit?__\n",
    "\n",
    "The measures above are one of many measures we can use to indicate how well the model fits our data - aka measures of fit. Though we can without much doubt provide a measure of fit to known data, it's a much more difficult problem when we attempt to say something about how our model will fit future (or unseen) data. \n",
    "\n",
    "For our purposes, measures of fit serve as a means to compare models and indicate which one may be better than another, and to also indicate when we are making improvments in our model's prediction accuracy. As discussed in class, we also need to be aware of the problem of overfitting, and address this by splitting our samples into training, validation, and testing data sets. "
   ]
  },
  {
   "cell_type": "markdown",
   "metadata": {
    "deletable": true,
    "editable": true
   },
   "source": [
    "## Multiple Linear Regression\n",
    "\n",
    "Now, often we can improve the predictive capacity of a model by including more data. In our case, it would be best to use all our input variables to help predict our target variable. \n",
    "\n",
    "We can do this be extending the simple linear regression models we created above to also include multiple inputs. In statistics, this is called **multiple linear regression**:\n",
    "\n",
    "$y = \\beta_0 + \\beta_1x_1 + ... + \\beta_nx_n$\n",
    "\n",
    "Each $x$ represents a different input variable, and each input variable has its own coefficient (measure of effect on our target variable). \n",
    "\n",
    "Therefore, we should create a model that fits the following form:\n",
    "\n",
    "$y = \\beta_0 + \\beta_1 \\times TV + \\beta_2 \\times Radio + \\beta_3 \\times Newspaper$\n"
   ]
  },
  {
   "cell_type": "code",
   "execution_count": 26,
   "metadata": {
    "collapsed": false,
    "deletable": true,
    "editable": true
   },
   "outputs": [
    {
     "name": "stdout",
     "output_type": "stream",
     "text": [
      "2.93888936946\n",
      "[ 0.04576465  0.18853002 -0.00103749]\n"
     ]
    }
   ],
   "source": [
    "input_cols = ['TV', 'Radio', 'Newspaper']\n",
    "ad_spend = adata[input_cols]\n",
    "sales = adata.Sales\n",
    "\n",
    "ad_model = LinearRegression()\n",
    "ad_model.fit(ad_spend, sales)\n",
    "\n",
    "# print intercept and coefficients\n",
    "print(ad_model.intercept_)\n",
    "print(ad_model.coef_)"
   ]
  },
  {
   "cell_type": "code",
   "execution_count": 27,
   "metadata": {
    "collapsed": false,
    "deletable": true,
    "editable": true,
    "scrolled": false
   },
   "outputs": [
    {
     "name": "stdout",
     "output_type": "stream",
     "text": [
      "1.66857014072\n"
     ]
    },
    {
     "data": {
      "text/plain": [
       "0.89721063817895208"
      ]
     },
     "execution_count": 27,
     "metadata": {},
     "output_type": "execute_result"
    }
   ],
   "source": [
    "# Mean squared error\n",
    "print(np.mean((ad_model.predict(ad_spend) - sales) ** 2)**.5)\n",
    "\n",
    "# R-Squared value \n",
    "ad_model.score(ad_spend, sales)"
   ]
  },
  {
   "cell_type": "markdown",
   "metadata": {
    "deletable": true,
    "editable": true
   },
   "source": [
    "What are a few key things we learn from this output?\n",
    "\n",
    "- Our data indicates that TV and Radio ad spend both have significant positive effect on sales, whereas Newspaper ad spending actually has a slight negative effect.\n",
    "- This new multi-input model acheives a better fit (has a higher **R-squared** (0.897)) than any of the previous models.\n",
    "\n",
    "Considering this, if we are trying to determine where to best place our ad spending dollars, TV would be our first priority, with radio second. Based on our sales data, we should reduce or eliminate newspaper spending. \n",
    "\n",
    "If we are attempting to predict changes in sales resulting from changes in advertising spending, we should simplify our model to include only TV and Radio advertising as input variables (which could be necessariy anyway, since if we took action on this model we would have stopped spending ad dollars on newspaper advertising)."
   ]
  },
  {
   "cell_type": "markdown",
   "metadata": {
    "deletable": true,
    "editable": true
   },
   "source": [
    "## Input Selection\n",
    "\n",
    "How do I decide **which inputs to include** in a linear predictuve model? As we discussed in last class, this is the process of choosing the least complex model which performs the best (by performance, we mean \"fits the data\"). Therefore, to test our model, we should check whether the fit measures we use go up when you add new predictors or go down if we take them away.\n",
    "\n",
    "There are drawbacks to this approach though. Linear regression modeling relies one a number of statistical assumptions(such as the features being independent), and if those assumptions are violated (which they usually are), some of our fit measures become less reliable or misleading. For instance, in the measures of fit we showed during last class, we can **overfit** our model and thus create a model of less predictive capacity (that is, predict future values) than a model that we discarded because of poorer fit. (see the illistrative examples of this in last class). "
   ]
  },
  {
   "cell_type": "markdown",
   "metadata": {
    "deletable": true,
    "editable": true
   },
   "source": [
    "So is there a better approach to feature selection? \n",
    "\n",
    "Yes, as we saw in last class, we can randomly partition our sample into training, validation, and test sets. This is know as k-fold cross-validation.\n",
    "\n",
    "\"In k-fold cross-validation, the original sample is randomly partitioned into k equal sized subsamples. Of the k subsamples, a single subsample is retained as the validation data for testing the model, and the remaining k − 1 subsamples are used as training data.\" (Cross-validation Wikipedia)\n",
    "\n",
    "**k-fold cross-validation.** provides a more reliable estimate of out-of-sample error, or predictive ability of our model, and thus provides a way to choose which of your models will best **generalize** to predict targets for observations that we do not yet have data. \n",
    "\n",
    "There is extensive functionality for cross-validation in scikit-learn, including automated methods for searching different sets of parameters and different models. Importantly, cross-validation can be applied to any model, whereas the methods described above and that you've learned in statistics (such as p-values) only apply to linear models. We will not be covering this sci-kit functionality, but you should remember that it is there if you need it."
   ]
  },
  {
   "cell_type": "markdown",
   "metadata": {
    "deletable": true,
    "editable": true
   },
   "source": [
    "Note that **p-values** and **confidence intervals** are not (easily) accessible through scikit-learn."
   ]
  },
  {
   "cell_type": "markdown",
   "metadata": {
    "deletable": true,
    "editable": true
   },
   "source": [
    "## What we did not cover...\n",
    "\n",
    "- Detecting relationships between our input variables (colinearity)\n",
    "- Exploring model fit and analyzing model performance over different data sets.\n",
    "- Transforming predictors to fit non-linear relationships (I did demonstrate this in last class with the use of higer order polynomials -- which is only once example)\n",
    "- Assumptions of linear regression -- once we begin to use linear regression to develop p-values or t-statistics to explore confidence intervals, we also intruce many assumptions about our population. "
   ]
  },
  {
   "cell_type": "markdown",
   "metadata": {
    "deletable": true,
    "editable": true
   },
   "source": [
    "## Resources\n",
    "\n",
    "- Chapter 3 of [An Introduction to Statistical Learning](http://www-bcf.usc.edu/~gareth/ISL/), from which the data used in this lesson was adapted.\n",
    "- [An introduction ot Machine Learning with SciKit-learn](http://scikit-learn.org/stable/tutorial/basic/tutorial.html)\n"
   ]
  }
 ],
 "metadata": {
  "anaconda-cloud": {},
  "kernelspec": {
   "display_name": "Python 3",
   "language": "python",
   "name": "python3"
  },
  "language_info": {
   "codemirror_mode": {
    "name": "ipython",
    "version": 3
   },
   "file_extension": ".py",
   "mimetype": "text/x-python",
   "name": "python",
   "nbconvert_exporter": "python",
   "pygments_lexer": "ipython3",
   "version": "3.6.0"
  }
 },
 "nbformat": 4,
 "nbformat_minor": 0
}

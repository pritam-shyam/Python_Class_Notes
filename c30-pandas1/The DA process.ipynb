{
 "cells": [
  {
   "cell_type": "markdown",
   "metadata": {
    "deletable": true,
    "editable": true
   },
   "source": [
    "# To Set Context: A very (very) Brief Intro to the Data Mining Process \n",
    "\n",
    "The process of Data Mining (and associated areas of Data Analytics, and Business Analytics) follow identifiable workflow patterns. Some of these patterns are proposed as best practices, or guiding models. Two of the most popular are SEMMA and CRISP-DM.\n"
   ]
  },
  {
   "cell_type": "markdown",
   "metadata": {
    "deletable": true,
    "editable": true
   },
   "source": [
    "## SEMMA (Sample, Explore, Modify, Model, and Assess)\n",
    "\n",
    "This is model proposed by SAS (one of the largest vendors of stastitical analysis and data mining software).\n",
    "\n",
    "The phases of SEMMA and related tasks are the following:\n",
    "\n",
    "__Sample__\n",
    "The process starts with data sampling, e.g., selecting the data set for modeling. The data set should be large enough to contain sufficient information to retrieve, yet small enough to be used efficiently. This phase also deals with data partitioning.\n",
    "\n",
    "__Explore__ \n",
    "This phase covers the understanding of the data by discovering anticipated and unanticipated relationships between the variables, and also abnormalities, with the help of data visualization.\n",
    "\n",
    "__Modify__ \n",
    "The Modify phase contains methods to select, create and transform variables in preparation for data modeling.\n",
    "\n",
    "__Model__\n",
    "In the Model phase the focus is on applying various modeling (data mining) techniques on the prepared variables in order to create models that possibly provide the desired outcome.\n",
    "Assess. The last phase is Assess. The evaluation of the modeling results shows the reliability and usefulness of the created models.\n",
    "\n",
    "<sub>(source: https://en.wikipedia.org/wiki/SEMMA, Oct.25, 2016)</sub>\n"
   ]
  },
  {
   "cell_type": "markdown",
   "metadata": {
    "deletable": true,
    "editable": true
   },
   "source": [
    "## CRISP-DM (Cross Industry Standard Process for Data Mining)\n",
    "\n",
    "Breaks the process of data mining into six major phases.\n",
    "\n",
    "The sequence of the phases is not strict and moving back and forth between different phases is always required. The arrows in the process diagram indicate the most important and frequent dependencies between phases. The outer circle in the diagram symbolizes the cyclic nature of data mining itself. A data mining process continues after a solution has been deployed. The lessons learned during the process can trigger new, often more focused business questions and subsequent data mining processes will benefit from the experiences of previous ones.\n",
    "\n",
    "Process diagram showing the relationship between the different phases of CRISP-DM\n",
    "![CRISP-DM](./images/CRISP-DM.png)\n",
    "\n",
    "__Business Understanding__\n",
    "\n",
    "This initial phase focuses on understanding the project objectives and requirements from a business perspective, and then converting this knowledge into a data mining problem definition, and a preliminary plan designed to achieve the objectives. A decision model, especially one built using the Decision Model and Notation standard can be used.\n",
    "\n",
    "__Data Understanding__\n",
    "\n",
    "The data understanding phase starts with an initial data collection and proceeds with activities in order to get familiar with the data, to identify data quality problems, to discover first insights into the data, or to detect interesting subsets to form hypotheses for hidden information.\n",
    "\n",
    "__Data Preparation__\n",
    "\n",
    "The data preparation phase covers all activities to construct the final dataset (data that will be fed into the modeling tool(s)) from the initial raw data. Data preparation tasks are likely to be performed multiple times, and not in any prescribed order. Tasks include table, record, and attribute selection as well as transformation and cleaning of data for modeling tools.\n",
    "\n",
    "__Modeling__\n",
    "\n",
    "In this phase, various modeling techniques are selected and applied, and their parameters are calibrated to optimal values. Typically, there are several techniques for the same data mining problem type. Some techniques have specific requirements on the form of data. Therefore, stepping back to the data preparation phase is often needed.\n",
    "\n",
    "__Evaluation__\n",
    "\n",
    "At this stage in the project you have built a model (or models) that appears to have high quality, from a data analysis perspective. Before proceeding to final deployment of the model, it is important to more thoroughly evaluate the model, and review the steps executed to construct the model, to be certain it properly achieves the business objectives. A key objective is to determine if there is some important business issue that has not been sufficiently considered. At the end of this phase, a decision on the use of the data mining results should be reached.\n",
    "\n",
    "__Deployment__\n",
    "\n",
    "Creation of the model is generally not the end of the project. Even if the purpose of the model is to increase knowledge of the data, the knowledge gained will need to be organized and presented in a way that is useful to the customer. Depending on the requirements, the deployment phase can be as simple as generating a report or as complex as implementing a repeatable data scoring (e.g. segment allocation) or data mining process. In many cases it will be the customer, not the data analyst, who will carry out the deployment steps. Even if the analyst deploys the model it is important for the customer to understand up front the actions which will need to be carried out in order to actually make use of the created models.\n",
    "\n",
    "<sub>(source: https://en.wikipedia.org/wiki/Cross_Industry_Standard_Process_for_Data_Mining, Oct.25, 2016)</sub>"
   ]
  },
  {
   "cell_type": "markdown",
   "metadata": {
    "deletable": true,
    "editable": true
   },
   "source": [
    "## For this course:\n",
    "\n",
    "The focus is on Python programming - but use  data anlytics (and specifically data understanding/exploring, data preparation/modifying, and modeling) as our organizing frame and motivation. \n",
    "\n",
    "This is not a data analytics course - we only sample and survey a few key techniques and ideas from the area of data anlytics. \n",
    "\n",
    "Our focus is on introducing the general concepts of DA so that we can understand how we use Python and the various supporting modules such as Pandas to help in DA work. \n"
   ]
  }
 ],
 "metadata": {
  "anaconda-cloud": {},
  "kernelspec": {
   "display_name": "Python [default]",
   "language": "python",
   "name": "python3"
  },
  "language_info": {
   "codemirror_mode": {
    "name": "ipython",
    "version": 3
   },
   "file_extension": ".py",
   "mimetype": "text/x-python",
   "name": "python",
   "nbconvert_exporter": "python",
   "pygments_lexer": "ipython3",
   "version": "3.5.2"
  }
 },
 "nbformat": 4,
 "nbformat_minor": 1
}
